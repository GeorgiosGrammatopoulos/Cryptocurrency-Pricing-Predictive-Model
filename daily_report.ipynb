{
    "metadata": {
        "kernelspec": {
            "name": "python3",
            "display_name": "Python 3",
            "language": "python"
        },
        "language_info": {
            "name": "python",
            "version": "3.8.10",
            "mimetype": "text/x-python",
            "codemirror_mode": {
                "name": "ipython",
                "version": 3
            },
            "pygments_lexer": "ipython3",
            "nbconvert_exporter": "python",
            "file_extension": ".py"
        }
    },
    "nbformat_minor": 2,
    "nbformat": 4,
    "cells": [
        {
            "cell_type": "markdown",
            "source": [
                "Welcome!\n",
                "\n",
                "This is a daily report, on the performance of specific exchange rates. It is to be ran at market close, to determine potential courses of action."
            ],
            "metadata": {
                "azdata_cell_guid": "0a6f621c-0b64-47ce-a014-9f06b7328673"
            },
            "attachments": {}
        },
        {
            "cell_type": "code",
            "source": [
                "###Daily report\r\n",
                "\r\n",
                "import pyodbc\r\n",
                "from datetime import datetime\r\n",
                "import pandas as pd\r\n",
                "import yfinance as yf\r\n",
                "import requests\r\n",
                "import pandas_ta as ta\r\n",
                "import pyodbc\r\n",
                "\r\n",
                "global dictdate\r\n",
                "dictdate = {\r\n",
                "    \"AXS\" : \"2020-11-04\",\r\n",
                "    \"ENS\" : \"2021-11-09\",\r\n",
                "    \"NEXO\": \"2018-05-01\",\r\n",
                "    \"DOT\" : \"2020-08-20\",\r\n",
                "    \"XRP\" : \"2017-11-09\",\r\n",
                "    \"ETH\" : \"2017-11-09\",\r\n",
                "    \"ARB11841\" : \"2023-03-23\",\r\n",
                "    \"TIA22861\" : \"2023-10-31\",\r\n",
                "    \"ADA\" : \"2017-11-09\",\r\n",
                "    \"HBAR\" : \"2019-09-17\",\r\n",
                "    \"SOL\" : \"2020-04-10\",\r\n",
                "    \"NEAR\" : \"2020-10-14\",\r\n",
                "    \"RUNE\" : \"2019-07-23\",\r\n",
                "    \"FTM\" : \"2018-10-30\",\r\n",
                "    \"LINK\" : \"2017-11-09\",\r\n",
                "    \"BCH\" : \"2017-11-09\",\r\n",
                "    \"AVAX\" : \"2020-07-13\",\r\n",
                "    \"ORDI\" : \"2023-05-08\",\r\n",
                "    \"OP\" : \"2022-03-14\",\r\n",
                "    \"DOGE\" : \"2017-11-09\",\r\n",
                "    \"BONK\" : \"2022-12-30\",\r\n",
                "    \"MATIC\" : \"2019-04-28\",\r\n",
                "    \"AI\" : \"2021-09-22\",\r\n",
                "    \"LTC\" : \"2014-09-17\",\r\n",
                "    \"BNB\" : \"2017-11-09\",\r\n",
                "    \"ETC\" : \"2017-11-09\",\r\n",
                "    \"JUP\" : \"2017-11-09\",\r\n",
                "    \"XMR\" : \"2017-11-09\",\r\n",
                "    \"FIL\" : \"2017-12-13\",\r\n",
                "    \"DYDX\" : \"2021-11-08\",\r\n",
                "    \"ATOM\" : \"2019-03-14\",\r\n",
                "    \"EOS\" : \"2017-11-09\",\r\n",
                "    \"TRB\" : \"2019-11-19\",\r\n",
                "    \"FTM\" : \"2018-10-30\",\r\n",
                "    \"JTO\" : \"2023-12-07\",\r\n",
                "    \"GALA\" : \"2020-09-18\",\r\n",
                "    \"BLUR\" : \"2023-02-14\"\r\n",
                "}\r\n",
                "\r\n",
                "def dataImport(token):\r\n",
                "\r\n",
                "    global creation\r\n",
                "    global current\r\n",
                "    global activetime\r\n",
                "\r\n",
                "    if token in dictdate.keys():\r\n",
                "        datestr = dictdate[token]\r\n",
                "    elif token == \"ARB\":\r\n",
                "        datestr = \"2023-03-23\"\r\n",
                "        token = \"ARB11841\"\r\n",
                "    elif token == \"TIA\":\r\n",
                "        datestr = \"2023-10-31\"\r\n",
                "        token = \"TIA22861\"\r\n",
                "    else:\r\n",
                "        datestr = input(\"Not in our database! Enter a date (YYYY-MM-DD): \")\r\n",
                "        print (\"Don't forget to add the date to the dictionary!\")\r\n",
                "\r\n",
                "    creation = datetime.strptime(datestr, \"%Y-%m-%d\")\r\n",
                "    current = datetime.today()\r\n",
                "    activetime = (current - creation).days\r\n",
                "\r\n",
                "    # Connection parameters - replace with your values\r\n",
                "    server = 'PERSONALDEVICEG' \r\n",
                "    database = 'models'\r\n",
                "    cnxn = pyodbc.connect('DRIVER={SQL Server};SERVER=' + server + ';DATABASE=' + database + ';Trusted_Connection=yes;')\r\n",
                "\r\n",
                "    cursor = cnxn.cursor()\r\n",
                "\r\n",
                "    # Set up the table and the auto procedure\r\n",
                "\r\n",
                "    try:\r\n",
                "        # It's more common to use separate execute calls for each SQL statement, but here's a try for batch execution\r\n",
                "        cursor.execute(f\"\"\"\r\n",
                "            IF OBJECT_ID('{token}daily', 'P') IS NOT NULL\r\n",
                "                DROP PROCEDURE {token}daily;\r\n",
                "        \"\"\")\r\n",
                "\r\n",
                "        cursor.execute(f\"\"\"            \r\n",
                "            IF OBJECT_ID('{token}HistoricalPrices', 'U') IS NOT NULL\r\n",
                "                DROP TABLE {token}HistoricalPrices;\r\n",
                "        \"\"\")\r\n",
                "\r\n",
                "        cursor.execute(f\"\"\"\r\n",
                "            CREATE TABLE {token}HistoricalPrices (\r\n",
                "                [Date] DATE,\r\n",
                "                [Open] DECIMAL(10, 6),\r\n",
                "                [High] DECIMAL(10, 6),\r\n",
                "                [Low] DECIMAL(10, 6),\r\n",
                "                [Close] DECIMAL(10, 6),\r\n",
                "                [Adj Close] DECIMAL(10, 6),\r\n",
                "                [Volume] BIGINT\r\n",
                "            );\r\n",
                "        \"\"\")\r\n",
                "\r\n",
                "        cursor.execute(f\"\"\"\r\n",
                "            CREATE PROCEDURE {token}daily \r\n",
                "                @dates DATE,\r\n",
                "                @opens DECIMAL(10, 6),\r\n",
                "                @highs DECIMAL(10, 6),\r\n",
                "                @lows DECIMAL(10, 6),\r\n",
                "                @closes DECIMAL(10, 6),\r\n",
                "                @adjcloses DECIMAL(10, 6),\r\n",
                "                @volumes BIGINT\r\n",
                "            AS BEGIN\r\n",
                "                INSERT INTO {token}HistoricalPrices (\r\n",
                "                    [Date],\r\n",
                "                    [Open],\r\n",
                "                    [High],\r\n",
                "                    [Low],\r\n",
                "                    [Close],\r\n",
                "                    [Adj Close],\r\n",
                "                    [Volume]\r\n",
                "                )\r\n",
                "                VALUES (\r\n",
                "                    @dates,\r\n",
                "                    @opens,\r\n",
                "                    @highs,\r\n",
                "                    @lows,\r\n",
                "                    @closes,\r\n",
                "                    @adjcloses,\r\n",
                "                    @volumes\r\n",
                "                );\r\n",
                "            END;\r\n",
                "        \"\"\")\r\n",
                "\r\n",
                "        cnxn.commit()\r\n",
                "\r\n",
                "    except Exception as e:\r\n",
                "        print(f'Preliminary SQL execution failed: {e}')\r\n",
                "        cursor.close()\r\n",
                "        cnxn.close()\r\n",
                "        return\r\n",
                "\r\n",
                "\r\n",
                "    # Read data from Yahoo! Finance\r\n",
                "\r\n",
                "    today_date = datetime.today().strftime('%Y-%m-%d')\r\n",
                "\r\n",
                "    df = yf.download(f\"{token}-USD\", start=datestr, end=today_date)\r\n",
                "\r\n",
                "    df.reset_index(inplace=True)\r\n",
                "\r\n",
                "    # Loop through the DataFrame and insert each row\r\n",
                "    for index, row in df.iterrows():\r\n",
                "        cursor.execute(f\"EXEC {token}daily @dates = ?, @opens = ?, @highs = ?, @lows = ?, @closes = ?, @adjcloses = ?, @volumes = ?\", \r\n",
                "                       row['Date'], row['Open'], row['High'], row['Low'], row['Close'], row['Adj Close'], row['Volume'])\r\n",
                "\r\n",
                "    # Commit the transaction\r\n",
                "    try :\r\n",
                "        cnxn.commit()\r\n",
                "    except:\r\n",
                "        print ('Data import failed!')\r\n",
                "\r\n",
                "    # Close the connection\r\n",
                "    cursor.close()\r\n",
                "    cnxn.close()\r\n",
                "\r\n",
                "\r\n",
                "\r\n",
                "# Function to calculate the daily percentage change in price and volume\r\n",
                "def calculate_price_volume_change(df):\r\n",
                "    # Calculate daily percentage change in price\r\n",
                "    df['Price_Change'] = df['Close'].pct_change() * 100\r\n",
                "    \r\n",
                "    # Calculate daily percentage change in volume\r\n",
                "    df['Volume_Change'] = df['Volume'].pct_change() * 100\r\n",
                "    \r\n",
                "    return df\r\n",
                "\r\n",
                "# Function to identify potential pump-and-dump activities based on predefined thresholds\r\n",
                "def identify_potential_pump_and_dump(df, price_change_threshold, volume_change_threshold):\r\n",
                "    # Identify potential pump-and-dump activities\r\n",
                "    df['Potential_Pump_and_Dump'] = (df['Price_Change'] > price_change_threshold) & (df['Volume_Change'] > volume_change_threshold)\r\n",
                "    \r\n",
                "    return df\r\n",
                "\r\n",
                "# Function to conduct market context analysis incorporating pump-and-dump analysis\r\n",
                "def conduct_market_context_analysis(df):\r\n",
                "    # Initialize market context column\r\n",
                "    df['Market_Context'] = 'Neutral'\r\n",
                "    \r\n",
                "    # Update market context based on pump-and-dump analysis\r\n",
                "    df.loc[df['Potential_Pump_and_Dump'], 'Market_Context'] = 'Potential Pump-and-Dump'\r\n",
                "    \r\n",
                "    return df\r\n",
                "\r\n",
                "def emotional(token, index):\r\n",
                "\r\n",
                "    pd.set_option('display.max_columns', None)\r\n",
                "\r\n",
                "    cnxn = connectionEst()\r\n",
                "\r\n",
                "    query = f\"SELECT * FROM {token}HistoricalPrices\"\r\n",
                "    df = pd.read_sql(query, cnxn)\r\n",
                "\r\n",
                "    if token == \"ARB\":\r\n",
                "        token = \"ARB11841\"\r\n",
                "\r\n",
                "    if token == \"TIA\":\r\n",
                "        token = \"TIA22861\"\r\n",
                "\r\n",
                "\r\n",
                "    # Define thresholds for identifying potential pump-and-dump activities\r\n",
                "    price_change_threshold = 10  # Percentage change in price threshold\r\n",
                "    volume_change_threshold = 20  # Percentage change in volume threshold\r\n",
                "\r\n",
                "    query = f\"SELECT * FROM {token}HistoricalPrices\"\r\n",
                "    df = pd.read_sql(query, cnxn)\r\n",
                "\r\n",
                "    # Calculate price and volume changes\r\n",
                "    df = calculate_price_volume_change(df)\r\n",
                "\r\n",
                "    # Identify potential pump-and-dump activities\r\n",
                "    df = identify_potential_pump_and_dump(df, price_change_threshold, volume_change_threshold)\r\n",
                "\r\n",
                "    # Conduct market context analysis\r\n",
                "    df = conduct_market_context_analysis(df)\r\n",
                "\r\n",
                "    df['Index'] = index\r\n",
                "\r\n",
                "    # Display the DataFrame with updated market context\r\n",
                "    return df.tail(1).sort_values(by='Date', ascending = False)\r\n",
                "\r\n",
                "def connectionEst():\r\n",
                "\r\n",
                "    global cnxn\r\n",
                "\r\n",
                "    # Connection parameters - replace with your values\r\n",
                "    server = 'PERSONALDEVICEG' \r\n",
                "    database = 'models'\r\n",
                "    cnxn = pyodbc.connect('DRIVER={SQL Server};SERVER=' + server + ';DATABASE=' + database + ';Trusted_Connection=yes;')\r\n",
                "    return cnxn\r\n",
                "\r\n",
                "\r\n",
                "def calculate_technical_indicators(df, index, period=20, num_std=2):\r\n",
                "    # Assuming df has 'Close', 'High', and 'Low' columns\r\n",
                "\r\n",
                "    # Convert 'Date' to datetime and set as index\r\n",
                "\r\n",
                "    # Calculate Moving Averages\r\n",
                "    df['SMA_20'] = ta.sma(df['Close'], length=period)\r\n",
                "    df['EMA_20'] = ta.ema(df['Close'], length=period)\r\n",
                "   \r\n",
                "    # Bollinger Bands\r\n",
                "    df['SMA'] = df['Close'].rolling(window=period).mean()  # Simple Moving Average\r\n",
                "    df['STD'] = df['Close'].rolling(window=period).std()  # Standard Deviation\r\n",
                "    df['Upper_Band'] = df['SMA'] + (df['STD'] * num_std)\r\n",
                "    df['Lower_Band'] = df['SMA'] - (df['STD'] * num_std)\r\n",
                "\r\n",
                "    # RSI\r\n",
                "    df['RSI_14'] = ta.rsi(df['Close'], length=14)\r\n",
                "\r\n",
                "    # MACD\r\n",
                "    macd = ta.macd(df['Close'], fast=12, slow=26, signal=9)\r\n",
                "    try:\r\n",
                "        df['MACD'] = macd['MACD_12_26_9']\r\n",
                "        df['MACD_Signal'] = macd['MACDs_12_26_9']\r\n",
                "        df['MACD_Histogram'] = macd['MACDh_12_26_9']\r\n",
                "    except:\r\n",
                "        df['MACD'] = \"Not available\"\r\n",
                "        df['MACD_Signal'] = \"Not available\"\r\n",
                "        df['MACD_Histogram'] = \"Not available\"\r\n",
                "    \r\n",
                "    # Identifying bullish or bearish trends\r\n",
                "    try:\r\n",
                "        df['Trend'] = 'Neutral'\r\n",
                "        df.loc[df['Close'] > df['SMA_20'], 'Trend'] = 'Bullish'\r\n",
                "        df.loc[df['Close'] < df['SMA_20'], 'Trend'] = 'Bearish'\r\n",
                "    except:\r\n",
                "        df['Trend'] = \"Not available\"\r\n",
                "\r\n",
                "\r\n",
                "    # Volume confirmation\r\n",
                "    df['Volume_Confirmation'] = False\r\n",
                "    df.loc[(df['Volume'].shift(1) < df['Volume']) & \r\n",
                "           ((df['Trend'] == 'Bullish') & (df['Close'] > df['Close'].shift(1)) | \r\n",
                "            (df['Trend'] == 'Bearish') & (df['Close'] < df['Close'].shift(1))), 'Volume_Confirmation'] = True\r\n",
                "\r\n",
                "    # Bollinger Bands for volatility and price position\r\n",
                "    df['Bollinger_Signal'] = 'Neutral'\r\n",
                "    df.loc[df['Close'] > df['Upper_Band'], 'Bollinger_Signal'] = 'Overbought'\r\n",
                "    df.loc[df['Close'] < df['Lower_Band'], 'Bollinger_Signal'] = 'Oversold'\r\n",
                "\r\n",
                "    # RSI for momentum\r\n",
                "    df['RSI_Signal'] = 'Neutral'\r\n",
                "    df.loc[df['RSI_14'] > 70, 'RSI_Signal'] = 'Overbought'\r\n",
                "    df.loc[df['RSI_14'] < 30, 'RSI_Signal'] = 'Oversold'\r\n",
                "\r\n",
                "    # MACD for trend changes\r\n",
                "    df['MACD_Signal_Char'] = 'Neutral'\r\n",
                "    df.loc[df['MACD'] > df['MACD_Signal'], 'MACD_Signal_Char'] = 'Bullish'\r\n",
                "    df.loc[df['MACD'] < df['MACD_Signal'], 'MACD_Signal_Char'] = 'Bearish'\r\n",
                "\r\n",
                "    # Price action relative to moving averages for potential reversals\r\n",
                "    try:\r\n",
                "        df['Price_MA_Relation'] = 'Neutral'\r\n",
                "        df.loc[(df['Close'] > df['SMA_20']) & (df['Close'].shift(1) < df['SMA_20'].shift(1)), 'Price_MA_Relation'] = 'Potential Reversal Up'\r\n",
                "        df.loc[(df['Close'] < df['SMA_20']) & (df['Close'].shift(1) > df['SMA_20'].shift(1)), 'Price_MA_Relation'] = 'Potential Reversal Down'\r\n",
                "    except:\r\n",
                "         df['Price_MA_Relation'] = 'Not available'\r\n",
                "\r\n",
                "    try:\r\n",
                "        df['Trend_Volume'] = 'Neutral'\r\n",
                "        df.loc[(df['Close'] > df['SMA_20']) & (df['Close'] > df['EMA_20']) & (df['Volume'].diff() > 0), 'Trend_Volume'] = 'Bullish with Volume Increase'\r\n",
                "        df.loc[(df['Close'] < df['SMA_20']) & (df['Close'] < df['EMA_20']) & (df['Volume'].diff() > 0), 'Trend_Volume'] = 'Bearish with Volume Increase'\r\n",
                "    except:\r\n",
                "        df['Trend_Volume'] = 'Not available'\r\n",
                "    \r\n",
                "    # Bollinger Bands and Volume for Market Extremes\r\n",
                "    df['Bollinger_Volume'] = 'Neutral'\r\n",
                "    df.loc[(df['Close'] > df['Upper_Band']) & (df['Volume'].diff() > 0), 'Bollinger_Volume'] = 'Overbought with Volume Increase'\r\n",
                "    df.loc[(df['Close'] < df['Lower_Band']) & (df['Volume'].diff() > 0), 'Bollinger_Volume'] = 'Oversold with Volume Increase'\r\n",
                "    \r\n",
                "    # RSI and Volume for Momentum Confirmation\r\n",
                "    df['RSI_Volume'] = 'Neutral'\r\n",
                "    df.loc[(df['RSI_14'] > 70) & (df['Volume'].diff() > 0), 'RSI_Volume'] = 'Overbought with High Volume'\r\n",
                "    df.loc[(df['RSI_14'] < 30) & (df['Volume'].diff() > 0), 'RSI_Volume'] = 'Oversold with High Volume'\r\n",
                "    \r\n",
                "    # MACD, Volume, and Market Reversals\r\n",
                "    df['MACD_Signal_Volume'] = 'Neutral'\r\n",
                "    df.loc[(df['MACD'] > df['MACD_Signal']) & (df['Volume'].diff() > 0), 'MACD_Signal_Volume'] = 'Bullish Crossover with Volume Increase'\r\n",
                "    df.loc[(df['MACD'] < df['MACD_Signal']) & (df['Volume'].diff() > 0), 'MACD_Signal_Volume'] = 'Bearish Crossover with Volume Increase'\r\n",
                "    \r\n",
                "    # Contextual Analysis Based on Historical Highs/Lows\r\n",
                "    try:\r\n",
                "        df['Market_Context'] = 'Neutral'\r\n",
                "        df.loc[(df['Close'] > df['SMA_20']) & (df['Close'] > df['EMA_20']) & (df['Close'] < df['Low'].min() * 1.10), 'Market_Context'] = 'Bullish Near Historical Lows'\r\n",
                "        df.loc[(df['Close'] < df['SMA_20']) & (df['Close'] < df['EMA_20']) & (df['Close'] > df['High'].max() * 0.90), 'Market_Context'] = 'Bearish Near Historical Highs'\r\n",
                "    except:\r\n",
                "        df['Market_Context'] = 'Not available'\r\n",
                "\r\n",
                "    df ['Index'] = index\r\n",
                "\r\n",
                "    return df.tail(1).sort_values(by='Date', ascending = False)\r\n",
                "\r\n",
                "\r\n",
                "def technical(token, index):\r\n",
                "\r\n",
                "    pd.set_option('display.max_columns', None)\r\n",
                "\r\n",
                "    cnxn = connectionEst()\r\n",
                "\r\n",
                "    query = f\"SELECT * FROM {token}HistoricalPrices\"\r\n",
                "    df = pd.read_sql(query, cnxn)\r\n",
                "\r\n",
                "    if df.empty:\r\n",
                "        return\r\n",
                "\r\n",
                "    return calculate_technical_indicators(df, index)\r\n",
                "\r\n",
                "\r\n",
                "emotionalFrame = None\r\n",
                "technicalFrame = None\r\n",
                "appendix = None\r\n",
                "new = None\r\n",
                "index = None\r\n",
                "\r\n",
                "for k in dictdate.keys():\r\n",
                "\r\n",
                "    dataImport(k)\r\n",
                "\r\n",
                "for k in dictdate.keys():\r\n",
                "\r\n",
                "    if emotionalFrame is None:\r\n",
                "        new = emotional (k, k)\r\n",
                "        emotionalFrame = new\r\n",
                "    else:\r\n",
                "        appendix = emotional(k, k)\r\n",
                "        emotionalFrame = pd.concat((emotionalFrame, appendix), axis = 0)\r\n",
                "\r\n",
                "for k in dictdate.keys():\r\n",
                "\r\n",
                "    if technicalFrame is None:\r\n",
                "        new = technical(k, k)\r\n",
                "        technicalFrame = new\r\n",
                "    else:\r\n",
                "        appendix = technical(k, k)\r\n",
                "        technicalFrame = pd.concat((technicalFrame, appendix), axis = 0)\r\n",
                "\r\n",
                "complete = pd.merge(emotionalFrame, technicalFrame, on = 'Index')\r\n",
                "\r\n",
                "complete\r\n",
                "\r\n",
                "    "
            ],
            "metadata": {
                "azdata_cell_guid": "a21a1e14-70c5-4b94-a2aa-379546be22b3",
                "language": "python",
                "tags": [
                    "hide_input"
                ]
            },
            "outputs": [
                {
                    "output_type": "stream",
                    "name": "stderr",
                    "text": "\r[*********************100%%**********************]  1 of 1 completed"
                },
                {
                    "output_type": "stream",
                    "name": "stderr",
                    "text": "\n"
                },
                {
                    "output_type": "stream",
                    "name": "stderr",
                    "text": "\r[*********************100%%**********************]  1 of 1 completed"
                },
                {
                    "output_type": "stream",
                    "name": "stderr",
                    "text": "\n"
                },
                {
                    "output_type": "stream",
                    "name": "stderr",
                    "text": "\r[*********************100%%**********************]  1 of 1 completed"
                },
                {
                    "output_type": "stream",
                    "name": "stderr",
                    "text": "\n"
                },
                {
                    "output_type": "stream",
                    "name": "stderr",
                    "text": "\r[*********************100%%**********************]  1 of 1 completed"
                },
                {
                    "output_type": "stream",
                    "name": "stderr",
                    "text": "\n"
                },
                {
                    "output_type": "stream",
                    "name": "stderr",
                    "text": "\r[*********************100%%**********************]  1 of 1 completed"
                },
                {
                    "output_type": "stream",
                    "name": "stderr",
                    "text": "\n"
                },
                {
                    "output_type": "stream",
                    "name": "stderr",
                    "text": "\r[*********************100%%**********************]  1 of 1 completed"
                },
                {
                    "output_type": "stream",
                    "name": "stderr",
                    "text": "\n"
                },
                {
                    "output_type": "stream",
                    "name": "stderr",
                    "text": "\r[*********************100%%**********************]  1 of 1 completed"
                },
                {
                    "output_type": "stream",
                    "name": "stderr",
                    "text": "\n"
                },
                {
                    "output_type": "stream",
                    "name": "stderr",
                    "text": "\r[*********************100%%**********************]  1 of 1 completed"
                },
                {
                    "output_type": "stream",
                    "name": "stderr",
                    "text": "\n"
                },
                {
                    "output_type": "stream",
                    "name": "stderr",
                    "text": "\r[*********************100%%**********************]  1 of 1 completed"
                },
                {
                    "output_type": "stream",
                    "name": "stderr",
                    "text": "\n"
                },
                {
                    "output_type": "stream",
                    "name": "stderr",
                    "text": "\r[*********************100%%**********************]  1 of 1 completed"
                },
                {
                    "output_type": "stream",
                    "name": "stderr",
                    "text": "\n"
                },
                {
                    "output_type": "stream",
                    "name": "stderr",
                    "text": "\r[*********************100%%**********************]  1 of 1 completed"
                },
                {
                    "output_type": "stream",
                    "name": "stderr",
                    "text": "\n"
                },
                {
                    "output_type": "stream",
                    "name": "stderr",
                    "text": "\r[*********************100%%**********************]  1 of 1 completed"
                },
                {
                    "output_type": "stream",
                    "name": "stderr",
                    "text": "\n"
                },
                {
                    "output_type": "stream",
                    "name": "stderr",
                    "text": "\r[*********************100%%**********************]  1 of 1 completed"
                },
                {
                    "output_type": "stream",
                    "name": "stderr",
                    "text": "\n"
                },
                {
                    "output_type": "stream",
                    "name": "stderr",
                    "text": "\r[*********************100%%**********************]  1 of 1 completed"
                },
                {
                    "output_type": "stream",
                    "name": "stderr",
                    "text": "\n"
                },
                {
                    "output_type": "stream",
                    "name": "stderr",
                    "text": "\r[*********************100%%**********************]  1 of 1 completed"
                },
                {
                    "output_type": "stream",
                    "name": "stderr",
                    "text": "\n"
                },
                {
                    "output_type": "stream",
                    "name": "stderr",
                    "text": "\r[*********************100%%**********************]  1 of 1 completed"
                },
                {
                    "output_type": "stream",
                    "name": "stderr",
                    "text": "\n"
                },
                {
                    "output_type": "stream",
                    "name": "stderr",
                    "text": "\r[*********************100%%**********************]  1 of 1 completed"
                },
                {
                    "output_type": "stream",
                    "name": "stderr",
                    "text": "\n"
                },
                {
                    "output_type": "stream",
                    "name": "stderr",
                    "text": "\r[*********************100%%**********************]  1 of 1 completed"
                },
                {
                    "output_type": "stream",
                    "name": "stderr",
                    "text": "\n"
                },
                {
                    "output_type": "stream",
                    "name": "stderr",
                    "text": "\r[*********************100%%**********************]  1 of 1 completed"
                },
                {
                    "output_type": "stream",
                    "name": "stderr",
                    "text": "\n"
                },
                {
                    "output_type": "stream",
                    "name": "stderr",
                    "text": "\r[*********************100%%**********************]  1 of 1 completed"
                },
                {
                    "output_type": "stream",
                    "name": "stderr",
                    "text": "\n"
                },
                {
                    "output_type": "stream",
                    "name": "stderr",
                    "text": "\r[*********************100%%**********************]  1 of 1 completed"
                },
                {
                    "output_type": "stream",
                    "name": "stderr",
                    "text": "\n"
                },
                {
                    "output_type": "stream",
                    "name": "stderr",
                    "text": "\r[*********************100%%**********************]  1 of 1 completed"
                },
                {
                    "output_type": "stream",
                    "name": "stderr",
                    "text": "\n"
                },
                {
                    "output_type": "stream",
                    "name": "stderr",
                    "text": "\r[*********************100%%**********************]  1 of 1 completed"
                },
                {
                    "output_type": "stream",
                    "name": "stderr",
                    "text": "\n"
                },
                {
                    "output_type": "stream",
                    "name": "stderr",
                    "text": "\r[*********************100%%**********************]  1 of 1 completed"
                },
                {
                    "output_type": "stream",
                    "name": "stderr",
                    "text": "\n"
                },
                {
                    "output_type": "stream",
                    "name": "stderr",
                    "text": "\r[*********************100%%**********************]  1 of 1 completed"
                },
                {
                    "output_type": "stream",
                    "name": "stderr",
                    "text": "\n"
                },
                {
                    "output_type": "stream",
                    "name": "stderr",
                    "text": "\r[*********************100%%**********************]  1 of 1 completed"
                },
                {
                    "output_type": "stream",
                    "name": "stderr",
                    "text": "\n"
                },
                {
                    "output_type": "stream",
                    "name": "stderr",
                    "text": "\r[*********************100%%**********************]  1 of 1 completed"
                },
                {
                    "output_type": "stream",
                    "name": "stderr",
                    "text": "\n"
                },
                {
                    "output_type": "stream",
                    "name": "stderr",
                    "text": "\r[*********************100%%**********************]  1 of 1 completed"
                },
                {
                    "output_type": "stream",
                    "name": "stderr",
                    "text": "\n"
                },
                {
                    "output_type": "stream",
                    "name": "stderr",
                    "text": "\r[*********************100%%**********************]  1 of 1 completed"
                },
                {
                    "output_type": "stream",
                    "name": "stderr",
                    "text": "\n"
                },
                {
                    "output_type": "stream",
                    "name": "stderr",
                    "text": "\r[*********************100%%**********************]  1 of 1 completed"
                },
                {
                    "output_type": "stream",
                    "name": "stderr",
                    "text": "\n"
                },
                {
                    "output_type": "stream",
                    "name": "stderr",
                    "text": "\r[*********************100%%**********************]  1 of 1 completed"
                },
                {
                    "output_type": "stream",
                    "name": "stderr",
                    "text": "\n"
                },
                {
                    "output_type": "stream",
                    "name": "stderr",
                    "text": "\r[*********************100%%**********************]  1 of 1 completed"
                },
                {
                    "output_type": "stream",
                    "name": "stderr",
                    "text": "\n"
                },
                {
                    "output_type": "stream",
                    "name": "stderr",
                    "text": "\r[*********************100%%**********************]  1 of 1 completed"
                },
                {
                    "output_type": "stream",
                    "name": "stderr",
                    "text": "\n"
                },
                {
                    "output_type": "stream",
                    "name": "stderr",
                    "text": "\r[*********************100%%**********************]  1 of 1 completed"
                },
                {
                    "output_type": "stream",
                    "name": "stderr",
                    "text": "\n"
                },
                {
                    "output_type": "stream",
                    "name": "stderr",
                    "text": "\r[*********************100%%**********************]  1 of 1 completed"
                },
                {
                    "output_type": "stream",
                    "name": "stderr",
                    "text": "\n"
                },
                {
                    "output_type": "stream",
                    "name": "stderr",
                    "text": "\r[*********************100%%**********************]  1 of 1 completed"
                },
                {
                    "output_type": "stream",
                    "name": "stderr",
                    "text": "\n<ipython-input-2-ec1958dca272>:206: UserWarning: pandas only supports SQLAlchemy connectable (engine/connection) or database string URI or sqlite3 DBAPI2 connection. Other DBAPI2 objects are not tested. Please consider using SQLAlchemy.\n  df = pd.read_sql(query, cnxn)\n"
                },
                {
                    "output_type": "stream",
                    "name": "stderr",
                    "text": "<ipython-input-2-ec1958dca272>:220: UserWarning: pandas only supports SQLAlchemy connectable (engine/connection) or database string URI or sqlite3 DBAPI2 connection. Other DBAPI2 objects are not tested. Please consider using SQLAlchemy.\n  df = pd.read_sql(query, cnxn)\n<ipython-input-2-ec1958dca272>:206: UserWarning: pandas only supports SQLAlchemy connectable (engine/connection) or database string URI or sqlite3 DBAPI2 connection. Other DBAPI2 objects are not tested. Please consider using SQLAlchemy.\n  df = pd.read_sql(query, cnxn)\n<ipython-input-2-ec1958dca272>:220: UserWarning: pandas only supports SQLAlchemy connectable (engine/connection) or database string URI or sqlite3 DBAPI2 connection. Other DBAPI2 objects are not tested. Please consider using SQLAlchemy.\n  df = pd.read_sql(query, cnxn)\n<ipython-input-2-ec1958dca272>:206: UserWarning: pandas only supports SQLAlchemy connectable (engine/connection) or database string URI or sqlite3 DBAPI2 connection. Other DBAPI2 objects are not tested. Please consider using SQLAlchemy.\n  df = pd.read_sql(query, cnxn)\n<ipython-input-2-ec1958dca272>:220: UserWarning: pandas only supports SQLAlchemy connectable (engine/connection) or database string URI or sqlite3 DBAPI2 connection. Other DBAPI2 objects are not tested. Please consider using SQLAlchemy.\n  df = pd.read_sql(query, cnxn)\n<ipython-input-2-ec1958dca272>:206: UserWarning: pandas only supports SQLAlchemy connectable (engine/connection) or database string URI or sqlite3 DBAPI2 connection. Other DBAPI2 objects are not tested. Please consider using SQLAlchemy.\n  df = pd.read_sql(query, cnxn)\n<ipython-input-2-ec1958dca272>:220: UserWarning: pandas only supports SQLAlchemy connectable (engine/connection) or database string URI or sqlite3 DBAPI2 connection. Other DBAPI2 objects are not tested. Please consider using SQLAlchemy.\n  df = pd.read_sql(query, cnxn)\n<ipython-input-2-ec1958dca272>:206: UserWarning: pandas only supports SQLAlchemy connectable (engine/connection) or database string URI or sqlite3 DBAPI2 connection. Other DBAPI2 objects are not tested. Please consider using SQLAlchemy.\n  df = pd.read_sql(query, cnxn)\n<ipython-input-2-ec1958dca272>:220: UserWarning: pandas only supports SQLAlchemy connectable (engine/connection) or database string URI or sqlite3 DBAPI2 connection. Other DBAPI2 objects are not tested. Please consider using SQLAlchemy.\n  df = pd.read_sql(query, cnxn)\n<ipython-input-2-ec1958dca272>:206: UserWarning: pandas only supports SQLAlchemy connectable (engine/connection) or database string URI or sqlite3 DBAPI2 connection. Other DBAPI2 objects are not tested. Please consider using SQLAlchemy.\n  df = pd.read_sql(query, cnxn)\n<ipython-input-2-ec1958dca272>:220: UserWarning: pandas only supports SQLAlchemy connectable (engine/connection) or database string URI or sqlite3 DBAPI2 connection. Other DBAPI2 objects are not tested. Please consider using SQLAlchemy.\n  df = pd.read_sql(query, cnxn)\n"
                },
                {
                    "output_type": "stream",
                    "name": "stderr",
                    "text": "<ipython-input-2-ec1958dca272>:206: UserWarning: pandas only supports SQLAlchemy connectable (engine/connection) or database string URI or sqlite3 DBAPI2 connection. Other DBAPI2 objects are not tested. Please consider using SQLAlchemy.\n  df = pd.read_sql(query, cnxn)\n<ipython-input-2-ec1958dca272>:220: UserWarning: pandas only supports SQLAlchemy connectable (engine/connection) or database string URI or sqlite3 DBAPI2 connection. Other DBAPI2 objects are not tested. Please consider using SQLAlchemy.\n  df = pd.read_sql(query, cnxn)\n<ipython-input-2-ec1958dca272>:206: UserWarning: pandas only supports SQLAlchemy connectable (engine/connection) or database string URI or sqlite3 DBAPI2 connection. Other DBAPI2 objects are not tested. Please consider using SQLAlchemy.\n  df = pd.read_sql(query, cnxn)\n<ipython-input-2-ec1958dca272>:220: UserWarning: pandas only supports SQLAlchemy connectable (engine/connection) or database string URI or sqlite3 DBAPI2 connection. Other DBAPI2 objects are not tested. Please consider using SQLAlchemy.\n  df = pd.read_sql(query, cnxn)\n<ipython-input-2-ec1958dca272>:206: UserWarning: pandas only supports SQLAlchemy connectable (engine/connection) or database string URI or sqlite3 DBAPI2 connection. Other DBAPI2 objects are not tested. Please consider using SQLAlchemy.\n  df = pd.read_sql(query, cnxn)\n<ipython-input-2-ec1958dca272>:220: UserWarning: pandas only supports SQLAlchemy connectable (engine/connection) or database string URI or sqlite3 DBAPI2 connection. Other DBAPI2 objects are not tested. Please consider using SQLAlchemy.\n  df = pd.read_sql(query, cnxn)\n<ipython-input-2-ec1958dca272>:206: UserWarning: pandas only supports SQLAlchemy connectable (engine/connection) or database string URI or sqlite3 DBAPI2 connection. Other DBAPI2 objects are not tested. Please consider using SQLAlchemy.\n  df = pd.read_sql(query, cnxn)\n<ipython-input-2-ec1958dca272>:220: UserWarning: pandas only supports SQLAlchemy connectable (engine/connection) or database string URI or sqlite3 DBAPI2 connection. Other DBAPI2 objects are not tested. Please consider using SQLAlchemy.\n  df = pd.read_sql(query, cnxn)\n<ipython-input-2-ec1958dca272>:206: UserWarning: pandas only supports SQLAlchemy connectable (engine/connection) or database string URI or sqlite3 DBAPI2 connection. Other DBAPI2 objects are not tested. Please consider using SQLAlchemy.\n  df = pd.read_sql(query, cnxn)\n<ipython-input-2-ec1958dca272>:220: UserWarning: pandas only supports SQLAlchemy connectable (engine/connection) or database string URI or sqlite3 DBAPI2 connection. Other DBAPI2 objects are not tested. Please consider using SQLAlchemy.\n  df = pd.read_sql(query, cnxn)\n<ipython-input-2-ec1958dca272>:206: UserWarning: pandas only supports SQLAlchemy connectable (engine/connection) or database string URI or sqlite3 DBAPI2 connection. Other DBAPI2 objects are not tested. Please consider using SQLAlchemy.\n  df = pd.read_sql(query, cnxn)\n<ipython-input-2-ec1958dca272>:220: UserWarning: pandas only supports SQLAlchemy connectable (engine/connection) or database string URI or sqlite3 DBAPI2 connection. Other DBAPI2 objects are not tested. Please consider using SQLAlchemy.\n  df = pd.read_sql(query, cnxn)\n<ipython-input-2-ec1958dca272>:206: UserWarning: pandas only supports SQLAlchemy connectable (engine/connection) or database string URI or sqlite3 DBAPI2 connection. Other DBAPI2 objects are not tested. Please consider using SQLAlchemy.\n  df = pd.read_sql(query, cnxn)\n"
                },
                {
                    "output_type": "stream",
                    "name": "stderr",
                    "text": "<ipython-input-2-ec1958dca272>:220: UserWarning: pandas only supports SQLAlchemy connectable (engine/connection) or database string URI or sqlite3 DBAPI2 connection. Other DBAPI2 objects are not tested. Please consider using SQLAlchemy.\n  df = pd.read_sql(query, cnxn)\n<ipython-input-2-ec1958dca272>:206: UserWarning: pandas only supports SQLAlchemy connectable (engine/connection) or database string URI or sqlite3 DBAPI2 connection. Other DBAPI2 objects are not tested. Please consider using SQLAlchemy.\n  df = pd.read_sql(query, cnxn)\n<ipython-input-2-ec1958dca272>:220: UserWarning: pandas only supports SQLAlchemy connectable (engine/connection) or database string URI or sqlite3 DBAPI2 connection. Other DBAPI2 objects are not tested. Please consider using SQLAlchemy.\n  df = pd.read_sql(query, cnxn)\n<ipython-input-2-ec1958dca272>:206: UserWarning: pandas only supports SQLAlchemy connectable (engine/connection) or database string URI or sqlite3 DBAPI2 connection. Other DBAPI2 objects are not tested. Please consider using SQLAlchemy.\n  df = pd.read_sql(query, cnxn)\n<ipython-input-2-ec1958dca272>:220: UserWarning: pandas only supports SQLAlchemy connectable (engine/connection) or database string URI or sqlite3 DBAPI2 connection. Other DBAPI2 objects are not tested. Please consider using SQLAlchemy.\n  df = pd.read_sql(query, cnxn)\n<ipython-input-2-ec1958dca272>:206: UserWarning: pandas only supports SQLAlchemy connectable (engine/connection) or database string URI or sqlite3 DBAPI2 connection. Other DBAPI2 objects are not tested. Please consider using SQLAlchemy.\n  df = pd.read_sql(query, cnxn)\n<ipython-input-2-ec1958dca272>:220: UserWarning: pandas only supports SQLAlchemy connectable (engine/connection) or database string URI or sqlite3 DBAPI2 connection. Other DBAPI2 objects are not tested. Please consider using SQLAlchemy.\n  df = pd.read_sql(query, cnxn)\n<ipython-input-2-ec1958dca272>:206: UserWarning: pandas only supports SQLAlchemy connectable (engine/connection) or database string URI or sqlite3 DBAPI2 connection. Other DBAPI2 objects are not tested. Please consider using SQLAlchemy.\n  df = pd.read_sql(query, cnxn)\n<ipython-input-2-ec1958dca272>:220: UserWarning: pandas only supports SQLAlchemy connectable (engine/connection) or database string URI or sqlite3 DBAPI2 connection. Other DBAPI2 objects are not tested. Please consider using SQLAlchemy.\n  df = pd.read_sql(query, cnxn)\n<ipython-input-2-ec1958dca272>:206: UserWarning: pandas only supports SQLAlchemy connectable (engine/connection) or database string URI or sqlite3 DBAPI2 connection. Other DBAPI2 objects are not tested. Please consider using SQLAlchemy.\n  df = pd.read_sql(query, cnxn)\n"
                },
                {
                    "output_type": "stream",
                    "name": "stderr",
                    "text": "<ipython-input-2-ec1958dca272>:220: UserWarning: pandas only supports SQLAlchemy connectable (engine/connection) or database string URI or sqlite3 DBAPI2 connection. Other DBAPI2 objects are not tested. Please consider using SQLAlchemy.\n  df = pd.read_sql(query, cnxn)\n<ipython-input-2-ec1958dca272>:206: UserWarning: pandas only supports SQLAlchemy connectable (engine/connection) or database string URI or sqlite3 DBAPI2 connection. Other DBAPI2 objects are not tested. Please consider using SQLAlchemy.\n  df = pd.read_sql(query, cnxn)\n<ipython-input-2-ec1958dca272>:220: UserWarning: pandas only supports SQLAlchemy connectable (engine/connection) or database string URI or sqlite3 DBAPI2 connection. Other DBAPI2 objects are not tested. Please consider using SQLAlchemy.\n  df = pd.read_sql(query, cnxn)\n<ipython-input-2-ec1958dca272>:206: UserWarning: pandas only supports SQLAlchemy connectable (engine/connection) or database string URI or sqlite3 DBAPI2 connection. Other DBAPI2 objects are not tested. Please consider using SQLAlchemy.\n  df = pd.read_sql(query, cnxn)\n<ipython-input-2-ec1958dca272>:220: UserWarning: pandas only supports SQLAlchemy connectable (engine/connection) or database string URI or sqlite3 DBAPI2 connection. Other DBAPI2 objects are not tested. Please consider using SQLAlchemy.\n  df = pd.read_sql(query, cnxn)\n<ipython-input-2-ec1958dca272>:206: UserWarning: pandas only supports SQLAlchemy connectable (engine/connection) or database string URI or sqlite3 DBAPI2 connection. Other DBAPI2 objects are not tested. Please consider using SQLAlchemy.\n  df = pd.read_sql(query, cnxn)\n<ipython-input-2-ec1958dca272>:220: UserWarning: pandas only supports SQLAlchemy connectable (engine/connection) or database string URI or sqlite3 DBAPI2 connection. Other DBAPI2 objects are not tested. Please consider using SQLAlchemy.\n  df = pd.read_sql(query, cnxn)\n<ipython-input-2-ec1958dca272>:206: UserWarning: pandas only supports SQLAlchemy connectable (engine/connection) or database string URI or sqlite3 DBAPI2 connection. Other DBAPI2 objects are not tested. Please consider using SQLAlchemy.\n  df = pd.read_sql(query, cnxn)\n<ipython-input-2-ec1958dca272>:220: UserWarning: pandas only supports SQLAlchemy connectable (engine/connection) or database string URI or sqlite3 DBAPI2 connection. Other DBAPI2 objects are not tested. Please consider using SQLAlchemy.\n  df = pd.read_sql(query, cnxn)\n<ipython-input-2-ec1958dca272>:206: UserWarning: pandas only supports SQLAlchemy connectable (engine/connection) or database string URI or sqlite3 DBAPI2 connection. Other DBAPI2 objects are not tested. Please consider using SQLAlchemy.\n  df = pd.read_sql(query, cnxn)\n<ipython-input-2-ec1958dca272>:220: UserWarning: pandas only supports SQLAlchemy connectable (engine/connection) or database string URI or sqlite3 DBAPI2 connection. Other DBAPI2 objects are not tested. Please consider using SQLAlchemy.\n  df = pd.read_sql(query, cnxn)\n<ipython-input-2-ec1958dca272>:206: UserWarning: pandas only supports SQLAlchemy connectable (engine/connection) or database string URI or sqlite3 DBAPI2 connection. Other DBAPI2 objects are not tested. Please consider using SQLAlchemy.\n  df = pd.read_sql(query, cnxn)\n"
                },
                {
                    "output_type": "stream",
                    "name": "stderr",
                    "text": "<ipython-input-2-ec1958dca272>:220: UserWarning: pandas only supports SQLAlchemy connectable (engine/connection) or database string URI or sqlite3 DBAPI2 connection. Other DBAPI2 objects are not tested. Please consider using SQLAlchemy.\n  df = pd.read_sql(query, cnxn)\n<ipython-input-2-ec1958dca272>:206: UserWarning: pandas only supports SQLAlchemy connectable (engine/connection) or database string URI or sqlite3 DBAPI2 connection. Other DBAPI2 objects are not tested. Please consider using SQLAlchemy.\n  df = pd.read_sql(query, cnxn)\n<ipython-input-2-ec1958dca272>:220: UserWarning: pandas only supports SQLAlchemy connectable (engine/connection) or database string URI or sqlite3 DBAPI2 connection. Other DBAPI2 objects are not tested. Please consider using SQLAlchemy.\n  df = pd.read_sql(query, cnxn)\n<ipython-input-2-ec1958dca272>:206: UserWarning: pandas only supports SQLAlchemy connectable (engine/connection) or database string URI or sqlite3 DBAPI2 connection. Other DBAPI2 objects are not tested. Please consider using SQLAlchemy.\n  df = pd.read_sql(query, cnxn)\n<ipython-input-2-ec1958dca272>:220: UserWarning: pandas only supports SQLAlchemy connectable (engine/connection) or database string URI or sqlite3 DBAPI2 connection. Other DBAPI2 objects are not tested. Please consider using SQLAlchemy.\n  df = pd.read_sql(query, cnxn)\n<ipython-input-2-ec1958dca272>:206: UserWarning: pandas only supports SQLAlchemy connectable (engine/connection) or database string URI or sqlite3 DBAPI2 connection. Other DBAPI2 objects are not tested. Please consider using SQLAlchemy.\n  df = pd.read_sql(query, cnxn)\n<ipython-input-2-ec1958dca272>:220: UserWarning: pandas only supports SQLAlchemy connectable (engine/connection) or database string URI or sqlite3 DBAPI2 connection. Other DBAPI2 objects are not tested. Please consider using SQLAlchemy.\n  df = pd.read_sql(query, cnxn)\n<ipython-input-2-ec1958dca272>:206: UserWarning: pandas only supports SQLAlchemy connectable (engine/connection) or database string URI or sqlite3 DBAPI2 connection. Other DBAPI2 objects are not tested. Please consider using SQLAlchemy.\n  df = pd.read_sql(query, cnxn)\n"
                },
                {
                    "output_type": "stream",
                    "name": "stderr",
                    "text": "<ipython-input-2-ec1958dca272>:220: UserWarning: pandas only supports SQLAlchemy connectable (engine/connection) or database string URI or sqlite3 DBAPI2 connection. Other DBAPI2 objects are not tested. Please consider using SQLAlchemy.\n  df = pd.read_sql(query, cnxn)\n<ipython-input-2-ec1958dca272>:206: UserWarning: pandas only supports SQLAlchemy connectable (engine/connection) or database string URI or sqlite3 DBAPI2 connection. Other DBAPI2 objects are not tested. Please consider using SQLAlchemy.\n  df = pd.read_sql(query, cnxn)\n<ipython-input-2-ec1958dca272>:220: UserWarning: pandas only supports SQLAlchemy connectable (engine/connection) or database string URI or sqlite3 DBAPI2 connection. Other DBAPI2 objects are not tested. Please consider using SQLAlchemy.\n  df = pd.read_sql(query, cnxn)\n<ipython-input-2-ec1958dca272>:206: UserWarning: pandas only supports SQLAlchemy connectable (engine/connection) or database string URI or sqlite3 DBAPI2 connection. Other DBAPI2 objects are not tested. Please consider using SQLAlchemy.\n  df = pd.read_sql(query, cnxn)\n<ipython-input-2-ec1958dca272>:220: UserWarning: pandas only supports SQLAlchemy connectable (engine/connection) or database string URI or sqlite3 DBAPI2 connection. Other DBAPI2 objects are not tested. Please consider using SQLAlchemy.\n  df = pd.read_sql(query, cnxn)\n<ipython-input-2-ec1958dca272>:206: UserWarning: pandas only supports SQLAlchemy connectable (engine/connection) or database string URI or sqlite3 DBAPI2 connection. Other DBAPI2 objects are not tested. Please consider using SQLAlchemy.\n  df = pd.read_sql(query, cnxn)\n<ipython-input-2-ec1958dca272>:220: UserWarning: pandas only supports SQLAlchemy connectable (engine/connection) or database string URI or sqlite3 DBAPI2 connection. Other DBAPI2 objects are not tested. Please consider using SQLAlchemy.\n  df = pd.read_sql(query, cnxn)\n<ipython-input-2-ec1958dca272>:206: UserWarning: pandas only supports SQLAlchemy connectable (engine/connection) or database string URI or sqlite3 DBAPI2 connection. Other DBAPI2 objects are not tested. Please consider using SQLAlchemy.\n  df = pd.read_sql(query, cnxn)\n<ipython-input-2-ec1958dca272>:220: UserWarning: pandas only supports SQLAlchemy connectable (engine/connection) or database string URI or sqlite3 DBAPI2 connection. Other DBAPI2 objects are not tested. Please consider using SQLAlchemy.\n  df = pd.read_sql(query, cnxn)\n<ipython-input-2-ec1958dca272>:206: UserWarning: pandas only supports SQLAlchemy connectable (engine/connection) or database string URI or sqlite3 DBAPI2 connection. Other DBAPI2 objects are not tested. Please consider using SQLAlchemy.\n  df = pd.read_sql(query, cnxn)\n<ipython-input-2-ec1958dca272>:220: UserWarning: pandas only supports SQLAlchemy connectable (engine/connection) or database string URI or sqlite3 DBAPI2 connection. Other DBAPI2 objects are not tested. Please consider using SQLAlchemy.\n  df = pd.read_sql(query, cnxn)\n"
                },
                {
                    "output_type": "stream",
                    "name": "stderr",
                    "text": "<ipython-input-2-ec1958dca272>:206: UserWarning: pandas only supports SQLAlchemy connectable (engine/connection) or database string URI or sqlite3 DBAPI2 connection. Other DBAPI2 objects are not tested. Please consider using SQLAlchemy.\n  df = pd.read_sql(query, cnxn)\n<ipython-input-2-ec1958dca272>:220: UserWarning: pandas only supports SQLAlchemy connectable (engine/connection) or database string URI or sqlite3 DBAPI2 connection. Other DBAPI2 objects are not tested. Please consider using SQLAlchemy.\n  df = pd.read_sql(query, cnxn)\n<ipython-input-2-ec1958dca272>:206: UserWarning: pandas only supports SQLAlchemy connectable (engine/connection) or database string URI or sqlite3 DBAPI2 connection. Other DBAPI2 objects are not tested. Please consider using SQLAlchemy.\n  df = pd.read_sql(query, cnxn)\n<ipython-input-2-ec1958dca272>:220: UserWarning: pandas only supports SQLAlchemy connectable (engine/connection) or database string URI or sqlite3 DBAPI2 connection. Other DBAPI2 objects are not tested. Please consider using SQLAlchemy.\n  df = pd.read_sql(query, cnxn)\n<ipython-input-2-ec1958dca272>:206: UserWarning: pandas only supports SQLAlchemy connectable (engine/connection) or database string URI or sqlite3 DBAPI2 connection. Other DBAPI2 objects are not tested. Please consider using SQLAlchemy.\n  df = pd.read_sql(query, cnxn)\n<ipython-input-2-ec1958dca272>:220: UserWarning: pandas only supports SQLAlchemy connectable (engine/connection) or database string URI or sqlite3 DBAPI2 connection. Other DBAPI2 objects are not tested. Please consider using SQLAlchemy.\n  df = pd.read_sql(query, cnxn)\n<ipython-input-2-ec1958dca272>:356: UserWarning: pandas only supports SQLAlchemy connectable (engine/connection) or database string URI or sqlite3 DBAPI2 connection. Other DBAPI2 objects are not tested. Please consider using SQLAlchemy.\n  df = pd.read_sql(query, cnxn)\n<ipython-input-2-ec1958dca272>:356: UserWarning: pandas only supports SQLAlchemy connectable (engine/connection) or database string URI or sqlite3 DBAPI2 connection. Other DBAPI2 objects are not tested. Please consider using SQLAlchemy.\n  df = pd.read_sql(query, cnxn)\n<ipython-input-2-ec1958dca272>:356: UserWarning: pandas only supports SQLAlchemy connectable (engine/connection) or database string URI or sqlite3 DBAPI2 connection. Other DBAPI2 objects are not tested. Please consider using SQLAlchemy.\n  df = pd.read_sql(query, cnxn)\n<ipython-input-2-ec1958dca272>:356: UserWarning: pandas only supports SQLAlchemy connectable (engine/connection) or database string URI or sqlite3 DBAPI2 connection. Other DBAPI2 objects are not tested. Please consider using SQLAlchemy.\n  df = pd.read_sql(query, cnxn)\n<ipython-input-2-ec1958dca272>:356: UserWarning: pandas only supports SQLAlchemy connectable (engine/connection) or database string URI or sqlite3 DBAPI2 connection. Other DBAPI2 objects are not tested. Please consider using SQLAlchemy.\n  df = pd.read_sql(query, cnxn)\n<ipython-input-2-ec1958dca272>:356: UserWarning: pandas only supports SQLAlchemy connectable (engine/connection) or database string URI or sqlite3 DBAPI2 connection. Other DBAPI2 objects are not tested. Please consider using SQLAlchemy.\n  df = pd.read_sql(query, cnxn)\n"
                },
                {
                    "output_type": "stream",
                    "name": "stderr",
                    "text": "<ipython-input-2-ec1958dca272>:356: UserWarning: pandas only supports SQLAlchemy connectable (engine/connection) or database string URI or sqlite3 DBAPI2 connection. Other DBAPI2 objects are not tested. Please consider using SQLAlchemy.\n  df = pd.read_sql(query, cnxn)\n<ipython-input-2-ec1958dca272>:356: UserWarning: pandas only supports SQLAlchemy connectable (engine/connection) or database string URI or sqlite3 DBAPI2 connection. Other DBAPI2 objects are not tested. Please consider using SQLAlchemy.\n  df = pd.read_sql(query, cnxn)\n<ipython-input-2-ec1958dca272>:356: UserWarning: pandas only supports SQLAlchemy connectable (engine/connection) or database string URI or sqlite3 DBAPI2 connection. Other DBAPI2 objects are not tested. Please consider using SQLAlchemy.\n  df = pd.read_sql(query, cnxn)\n<ipython-input-2-ec1958dca272>:356: UserWarning: pandas only supports SQLAlchemy connectable (engine/connection) or database string URI or sqlite3 DBAPI2 connection. Other DBAPI2 objects are not tested. Please consider using SQLAlchemy.\n  df = pd.read_sql(query, cnxn)\n<ipython-input-2-ec1958dca272>:356: UserWarning: pandas only supports SQLAlchemy connectable (engine/connection) or database string URI or sqlite3 DBAPI2 connection. Other DBAPI2 objects are not tested. Please consider using SQLAlchemy.\n  df = pd.read_sql(query, cnxn)\n<ipython-input-2-ec1958dca272>:356: UserWarning: pandas only supports SQLAlchemy connectable (engine/connection) or database string URI or sqlite3 DBAPI2 connection. Other DBAPI2 objects are not tested. Please consider using SQLAlchemy.\n  df = pd.read_sql(query, cnxn)\n<ipython-input-2-ec1958dca272>:356: UserWarning: pandas only supports SQLAlchemy connectable (engine/connection) or database string URI or sqlite3 DBAPI2 connection. Other DBAPI2 objects are not tested. Please consider using SQLAlchemy.\n  df = pd.read_sql(query, cnxn)\n<ipython-input-2-ec1958dca272>:356: UserWarning: pandas only supports SQLAlchemy connectable (engine/connection) or database string URI or sqlite3 DBAPI2 connection. Other DBAPI2 objects are not tested. Please consider using SQLAlchemy.\n  df = pd.read_sql(query, cnxn)\n"
                },
                {
                    "output_type": "stream",
                    "name": "stderr",
                    "text": "<ipython-input-2-ec1958dca272>:356: UserWarning: pandas only supports SQLAlchemy connectable (engine/connection) or database string URI or sqlite3 DBAPI2 connection. Other DBAPI2 objects are not tested. Please consider using SQLAlchemy.\n  df = pd.read_sql(query, cnxn)\n<ipython-input-2-ec1958dca272>:356: UserWarning: pandas only supports SQLAlchemy connectable (engine/connection) or database string URI or sqlite3 DBAPI2 connection. Other DBAPI2 objects are not tested. Please consider using SQLAlchemy.\n  df = pd.read_sql(query, cnxn)\n<ipython-input-2-ec1958dca272>:356: UserWarning: pandas only supports SQLAlchemy connectable (engine/connection) or database string URI or sqlite3 DBAPI2 connection. Other DBAPI2 objects are not tested. Please consider using SQLAlchemy.\n  df = pd.read_sql(query, cnxn)\n<ipython-input-2-ec1958dca272>:356: UserWarning: pandas only supports SQLAlchemy connectable (engine/connection) or database string URI or sqlite3 DBAPI2 connection. Other DBAPI2 objects are not tested. Please consider using SQLAlchemy.\n  df = pd.read_sql(query, cnxn)\n<ipython-input-2-ec1958dca272>:356: UserWarning: pandas only supports SQLAlchemy connectable (engine/connection) or database string URI or sqlite3 DBAPI2 connection. Other DBAPI2 objects are not tested. Please consider using SQLAlchemy.\n  df = pd.read_sql(query, cnxn)\n<ipython-input-2-ec1958dca272>:356: UserWarning: pandas only supports SQLAlchemy connectable (engine/connection) or database string URI or sqlite3 DBAPI2 connection. Other DBAPI2 objects are not tested. Please consider using SQLAlchemy.\n  df = pd.read_sql(query, cnxn)\n<ipython-input-2-ec1958dca272>:356: UserWarning: pandas only supports SQLAlchemy connectable (engine/connection) or database string URI or sqlite3 DBAPI2 connection. Other DBAPI2 objects are not tested. Please consider using SQLAlchemy.\n  df = pd.read_sql(query, cnxn)\n"
                },
                {
                    "output_type": "stream",
                    "name": "stderr",
                    "text": "<ipython-input-2-ec1958dca272>:356: UserWarning: pandas only supports SQLAlchemy connectable (engine/connection) or database string URI or sqlite3 DBAPI2 connection. Other DBAPI2 objects are not tested. Please consider using SQLAlchemy.\n  df = pd.read_sql(query, cnxn)\n<ipython-input-2-ec1958dca272>:356: UserWarning: pandas only supports SQLAlchemy connectable (engine/connection) or database string URI or sqlite3 DBAPI2 connection. Other DBAPI2 objects are not tested. Please consider using SQLAlchemy.\n  df = pd.read_sql(query, cnxn)\n<ipython-input-2-ec1958dca272>:356: UserWarning: pandas only supports SQLAlchemy connectable (engine/connection) or database string URI or sqlite3 DBAPI2 connection. Other DBAPI2 objects are not tested. Please consider using SQLAlchemy.\n  df = pd.read_sql(query, cnxn)\n<ipython-input-2-ec1958dca272>:356: UserWarning: pandas only supports SQLAlchemy connectable (engine/connection) or database string URI or sqlite3 DBAPI2 connection. Other DBAPI2 objects are not tested. Please consider using SQLAlchemy.\n  df = pd.read_sql(query, cnxn)\n<ipython-input-2-ec1958dca272>:356: UserWarning: pandas only supports SQLAlchemy connectable (engine/connection) or database string URI or sqlite3 DBAPI2 connection. Other DBAPI2 objects are not tested. Please consider using SQLAlchemy.\n  df = pd.read_sql(query, cnxn)\n<ipython-input-2-ec1958dca272>:356: UserWarning: pandas only supports SQLAlchemy connectable (engine/connection) or database string URI or sqlite3 DBAPI2 connection. Other DBAPI2 objects are not tested. Please consider using SQLAlchemy.\n  df = pd.read_sql(query, cnxn)\n"
                },
                {
                    "output_type": "stream",
                    "name": "stderr",
                    "text": "<ipython-input-2-ec1958dca272>:356: UserWarning: pandas only supports SQLAlchemy connectable (engine/connection) or database string URI or sqlite3 DBAPI2 connection. Other DBAPI2 objects are not tested. Please consider using SQLAlchemy.\n  df = pd.read_sql(query, cnxn)\n<ipython-input-2-ec1958dca272>:356: UserWarning: pandas only supports SQLAlchemy connectable (engine/connection) or database string URI or sqlite3 DBAPI2 connection. Other DBAPI2 objects are not tested. Please consider using SQLAlchemy.\n  df = pd.read_sql(query, cnxn)\n<ipython-input-2-ec1958dca272>:356: UserWarning: pandas only supports SQLAlchemy connectable (engine/connection) or database string URI or sqlite3 DBAPI2 connection. Other DBAPI2 objects are not tested. Please consider using SQLAlchemy.\n  df = pd.read_sql(query, cnxn)\n<ipython-input-2-ec1958dca272>:356: UserWarning: pandas only supports SQLAlchemy connectable (engine/connection) or database string URI or sqlite3 DBAPI2 connection. Other DBAPI2 objects are not tested. Please consider using SQLAlchemy.\n  df = pd.read_sql(query, cnxn)\n<ipython-input-2-ec1958dca272>:356: UserWarning: pandas only supports SQLAlchemy connectable (engine/connection) or database string URI or sqlite3 DBAPI2 connection. Other DBAPI2 objects are not tested. Please consider using SQLAlchemy.\n  df = pd.read_sql(query, cnxn)\n<ipython-input-2-ec1958dca272>:356: UserWarning: pandas only supports SQLAlchemy connectable (engine/connection) or database string URI or sqlite3 DBAPI2 connection. Other DBAPI2 objects are not tested. Please consider using SQLAlchemy.\n  df = pd.read_sql(query, cnxn)\n"
                },
                {
                    "output_type": "stream",
                    "name": "stderr",
                    "text": "<ipython-input-2-ec1958dca272>:356: UserWarning: pandas only supports SQLAlchemy connectable (engine/connection) or database string URI or sqlite3 DBAPI2 connection. Other DBAPI2 objects are not tested. Please consider using SQLAlchemy.\n  df = pd.read_sql(query, cnxn)\n<ipython-input-2-ec1958dca272>:356: UserWarning: pandas only supports SQLAlchemy connectable (engine/connection) or database string URI or sqlite3 DBAPI2 connection. Other DBAPI2 objects are not tested. Please consider using SQLAlchemy.\n  df = pd.read_sql(query, cnxn)\n<ipython-input-2-ec1958dca272>:356: UserWarning: pandas only supports SQLAlchemy connectable (engine/connection) or database string URI or sqlite3 DBAPI2 connection. Other DBAPI2 objects are not tested. Please consider using SQLAlchemy.\n  df = pd.read_sql(query, cnxn)\n"
                },
                {
                    "output_type": "execute_result",
                    "execution_count": 2,
                    "data": {
                        "text/plain": "        Date_x       Open_x       High_x        Low_x      Close_x  \\\n0   2024-06-06     8.613020     8.697354     8.385620     8.433172   \n1   2024-06-06    25.264006    25.652092    23.842999    24.053110   \n2   2024-06-06     1.482461     1.502117     1.466940     1.482463   \n3   2024-06-06     7.248750     7.279625     7.068440     7.142014   \n4   2024-06-06     0.525706     0.527604     0.517547     0.521578   \n5   2024-06-06  3864.263428  3878.052246  3761.775391  3811.605957   \n6   2024-06-06     1.122950     1.123754     1.077755     1.088713   \n7   2024-06-06    10.468363    10.527226    10.209706    10.430121   \n8   2024-06-06     0.461175     0.461865     0.452339     0.458102   \n9   2024-06-06     0.104454     0.105027     0.100215     0.101416   \n10  2024-06-06   173.482910   174.304703   167.864212   170.016220   \n11  2024-06-06     7.655090     7.674423     7.247033     7.333911   \n12  2024-06-06     6.239586     6.258838     5.967549     6.015190   \n13  2024-06-06     0.828139     0.835990     0.793097     0.806348   \n14  2024-06-06    17.738054    17.763636    17.136850    17.268896   \n15  2024-06-06   495.131348   501.904449   487.730286   495.823456   \n16  2024-06-06    36.521896    37.143639    35.780071    35.911816   \n17  2024-06-06    57.493755    59.088379    55.693928    57.747047   \n18  2024-06-06     2.523514     2.529567     2.449876     2.483191   \n19  2024-06-06     0.163235     0.165170     0.158657     0.160159   \n20  2024-06-06     0.000034     0.000034     0.000032     0.000032   \n21  2024-06-06     0.724675     0.739765     0.714774     0.725595   \n22  2024-06-06     0.071064     0.077145     0.071064     0.075522   \n23  2024-06-06    85.413132    85.734612    84.181122    84.181122   \n24  2024-06-06   698.889404   720.672607   692.994751   710.464050   \n25  2024-06-06    29.799065    29.804882    28.818125    29.062695   \n26  2024-06-06     0.001057     0.001068     0.001004     0.001004   \n27  2024-06-06   163.156189   166.311264   162.537552   165.257813   \n28  2024-06-06     6.076118     6.087913     5.852156     5.958722   \n29  2024-06-06     2.082284     2.204088     2.078436     2.172313   \n30  2024-06-06     8.692935     8.793395     8.573470     8.617699   \n31  2024-06-06     0.807216     0.807384     0.776493     0.785384   \n32  2024-06-06   104.881287   108.302711   103.397636   105.353508   \n33  2024-06-06     3.711645     3.735916     3.550245     3.591418   \n34  2024-06-06     0.046879     0.046880     0.044643     0.045368   \n35  2024-06-06     0.412164     0.418288     0.397636     0.405165   \n\n    Adj Close_x     Volume_x  Price_Change  Volume_Change  \\\n0      8.433172     54664343     -2.088095     -36.962275   \n1     24.053110     94818250     -3.550290     -19.832567   \n2      1.482463      7729841      0.000135      14.515722   \n3      7.142014    154128107     -1.472176      -9.970235   \n4      0.521578   1194300808     -0.786173       3.489912   \n5   3811.605957  13606583873     -1.362616     -12.102367   \n6      1.088713    226273579     -3.048586     -19.456279   \n7     10.430121     69699245     -0.365310     -44.288197   \n8      0.458102    281512944     -0.666341      -6.424282   \n9      0.101416     52088501     -2.908457     -11.949100   \n10   170.016220   1965442993     -1.998289     -18.307594   \n11     7.333911    214474286     -4.195627     -18.678567   \n12     6.015190    185064776     -3.596328     -15.354229   \n13     0.806348    147047261     -2.631322     -13.688169   \n14    17.268896    410216703     -2.644924      16.187029   \n15   495.823456    308007650      0.139783       7.831254   \n16    35.911816    288389895     -1.669618     -14.905494   \n17    57.747047    221002007      0.440556     -37.143530   \n18     2.483191    177120897     -1.597891     -17.072402   \n19     0.160159    893170339     -1.884400       8.916068   \n20     0.000032    317351610     -5.882353     -49.493301   \n21     0.725595    315340853      0.127230      34.885447   \n22     0.075522         2134      6.273219      -0.140384   \n23    84.181122    303021855     -1.442413       1.368085   \n24   710.464050   2997888288      1.656148     -14.376174   \n25    29.062695    156748853     -2.471118     -16.596698   \n26     0.001004         2917     -5.014191     -45.220657   \n27   165.257813     59505497      1.288475      -8.037996   \n28     5.958722    160189832     -1.932089     -12.662225   \n29     2.172313     73409361      4.323570      58.448520   \n30     8.617699    111718832     -0.861402      10.469255   \n31     0.785384    109849492     -2.704363      -8.906416   \n32   105.353508     34158584      0.450243     -19.119855   \n33     3.591418     39635978     -3.239184     -39.512978   \n34     0.045368    142493918     -3.223192     -34.407997   \n35     0.405165     38764262     -1.698110     -25.795454   \n\n    Potential_Pump_and_Dump Market_Context_x     Index      Date_y  \\\n0                     False          Neutral       AXS  2024-06-06   \n1                     False          Neutral       ENS  2024-06-06   \n2                     False          Neutral      NEXO  2024-06-06   \n3                     False          Neutral       DOT  2024-06-06   \n4                     False          Neutral       XRP  2024-06-06   \n5                     False          Neutral       ETH  2024-06-06   \n6                     False          Neutral  ARB11841  2024-06-06   \n7                     False          Neutral  TIA22861  2024-06-06   \n8                     False          Neutral       ADA  2024-06-06   \n9                     False          Neutral      HBAR  2024-06-06   \n10                    False          Neutral       SOL  2024-06-06   \n11                    False          Neutral      NEAR  2024-06-06   \n12                    False          Neutral      RUNE  2024-06-06   \n13                    False          Neutral       FTM  2024-06-06   \n14                    False          Neutral      LINK  2024-06-06   \n15                    False          Neutral       BCH  2024-06-06   \n16                    False          Neutral      AVAX  2024-06-06   \n17                    False          Neutral      ORDI  2024-06-06   \n18                    False          Neutral        OP  2024-06-06   \n19                    False          Neutral      DOGE  2024-06-06   \n20                    False          Neutral      BONK  2024-06-06   \n21                    False          Neutral     MATIC  2024-06-06   \n22                    False          Neutral        AI  2024-06-06   \n23                    False          Neutral       LTC  2024-06-06   \n24                    False          Neutral       BNB  2024-06-06   \n25                    False          Neutral       ETC  2024-06-06   \n26                    False          Neutral       JUP  2024-06-06   \n27                    False          Neutral       XMR  2024-06-06   \n28                    False          Neutral       FIL  2024-06-06   \n29                    False          Neutral      DYDX  2024-06-06   \n30                    False          Neutral      ATOM  2024-06-06   \n31                    False          Neutral       EOS  2024-06-06   \n32                    False          Neutral       TRB  2024-06-06   \n33                    False          Neutral       JTO  2024-06-06   \n34                    False          Neutral      GALA  2024-06-06   \n35                    False          Neutral      BLUR  2024-06-06   \n\n         Open_y       High_y        Low_y      Close_y  Adj Close_y  \\\n0      8.613020     8.697354     8.385620     8.433172     8.433172   \n1     25.264006    25.652092    23.842999    24.053110    24.053110   \n2      1.482461     1.502117     1.466940     1.482463     1.482463   \n3      7.248750     7.279625     7.068440     7.142014     7.142014   \n4      0.525706     0.527604     0.517547     0.521578     0.521578   \n5   3864.263428  3878.052246  3761.775391  3811.605957  3811.605957   \n6      1.122950     1.123754     1.077755     1.088713     1.088713   \n7     10.468363    10.527226    10.209706    10.430121    10.430121   \n8      0.461175     0.461865     0.452339     0.458102     0.458102   \n9      0.104454     0.105027     0.100215     0.101416     0.101416   \n10   173.482910   174.304703   167.864212   170.016220   170.016220   \n11     7.655090     7.674423     7.247033     7.333911     7.333911   \n12     6.239586     6.258838     5.967549     6.015190     6.015190   \n13     0.828139     0.835990     0.793097     0.806348     0.806348   \n14    17.738054    17.763636    17.136850    17.268896    17.268896   \n15   495.131348   501.904449   487.730286   495.823456   495.823456   \n16    36.521896    37.143639    35.780071    35.911816    35.911816   \n17    57.493755    59.088379    55.693928    57.747047    57.747047   \n18     2.523514     2.529567     2.449876     2.483191     2.483191   \n19     0.163235     0.165170     0.158657     0.160159     0.160159   \n20     0.000034     0.000034     0.000032     0.000032     0.000032   \n21     0.724675     0.739765     0.714774     0.725595     0.725595   \n22     0.071064     0.077145     0.071064     0.075522     0.075522   \n23    85.413132    85.734612    84.181122    84.181122    84.181122   \n24   698.889404   720.672607   692.994751   710.464050   710.464050   \n25    29.799065    29.804882    28.818125    29.062695    29.062695   \n26     0.001057     0.001068     0.001004     0.001004     0.001004   \n27   163.156189   166.311264   162.537552   165.257813   165.257813   \n28     6.076118     6.087913     5.852156     5.958722     5.958722   \n29     2.082284     2.204088     2.078436     2.172313     2.172313   \n30     8.692935     8.793395     8.573470     8.617699     8.617699   \n31     0.807216     0.807384     0.776493     0.785384     0.785384   \n32   104.881287   108.302711   103.397636   105.353508   105.353508   \n33     3.711645     3.735916     3.550245     3.591418     3.591418   \n34     0.046879     0.046880     0.044643     0.045368     0.045368   \n35     0.412164     0.418288     0.397636     0.405165     0.405165   \n\n       Volume_y       SMA_20       EMA_20          SMA         STD  \\\n0      54664343     7.850865     7.881686     7.850865    0.367253   \n1      94818250    23.448359    23.294915    23.448359    3.754635   \n2       7729841     1.428476     1.417869     1.428476    0.043437   \n3     154128107     7.247596     7.163746     7.247596    0.227202   \n4    1194300808     0.525640     0.523243     0.525640    0.008434   \n5   13606583873  3715.768835  3671.349114  3715.768835  217.688263   \n6     226273579     1.134718     1.118514     1.134718    0.062684   \n7      69699245    10.154487    10.344029    10.154487    0.899570   \n8     281512944     0.463960     0.459246     0.463960    0.015491   \n9      52088501     0.106369     0.104534     0.106369    0.005616   \n10   1965442993   170.426908   166.694092   170.426908    5.676304   \n11    214474286     7.657712     7.484487     7.657712    0.334169   \n12    185064776     6.464435     6.254512     6.464435    0.367684   \n13    147047261     0.825279     0.802339     0.825279    0.036970   \n14    410216703    17.531262    17.263488    17.531262    0.772807   \n15    308007650   482.690536   476.288711   482.690536   17.890729   \n16    288389895    37.168871    36.349001    37.168871    1.756780   \n17    221002007    44.794880    46.668675    44.794880    6.231929   \n18    177120897     2.546490     2.516487     2.546490    0.129343   \n19    893170339     0.162253     0.160245     0.162253    0.005797   \n20    317351610     0.000033     0.000032     0.000033    0.000004   \n21    315340853     0.717255     0.712878     0.717255    0.018578   \n22         2134     0.065269     0.064395     0.065269    0.004353   \n23    303021855    84.509100    83.926140    84.509100    1.645736   \n24   2997888288   615.215906   624.996999   615.215906   37.824549   \n25    156748853    30.345203    29.622018    30.345203    1.414971   \n26         2917     0.001017     0.001020     0.001017    0.000108   \n27     59505497   145.296105   147.656022   145.296105    9.406878   \n28    160189832     5.906988     5.900188     5.906988    0.169828   \n29     73409361     2.044340     2.059730     2.044340    0.061585   \n30    111718832     8.522686     8.534927     8.522686    0.188228   \n31    109849492     0.819867     0.811761     0.819867    0.022931   \n32     34158584   109.751491   106.795632   109.751491    5.067908   \n33     39635978     3.796555     3.712816     3.796555    0.321419   \n34    142493918     0.044459     0.044655     0.044459    0.001339   \n35     38764262     0.413213     0.409230     0.413213    0.025256   \n\n     Upper_Band   Lower_Band     RSI_14        MACD  MACD_Signal  \\\n0      8.585372     7.116358  59.487774    0.203621     0.115749   \n1     30.957629    15.939089  56.248530    2.240070     2.489140   \n2      1.515349     1.341603  65.363184    0.040421     0.039968   \n3      7.702001     6.793192  49.153588   -0.010396     0.000733   \n4      0.542508     0.508772  48.476282   -0.001031    -0.000956   \n5   4151.145362  3280.392309  62.756544  152.767496   162.802453   \n6      1.260086     1.009351  46.033242    0.001909     0.007588   \n7     11.953627     8.355348  51.426219    0.272020     0.212673   \n8      0.494942     0.432978  48.051291   -0.003900    -0.004807   \n9      0.117601     0.095137  44.093392   -0.001812    -0.001326   \n10   181.779516   159.074300  54.926401    3.116636     3.580499   \n11     8.326051     6.989374  48.094446    0.006304     0.073588   \n12     7.199802     5.729067  45.695136   -0.017075     0.062024   \n13     0.899218     0.751339  51.546306    0.011315     0.013957   \n14    19.076877    15.985648  53.014222    0.650853     0.783292   \n15   518.471995   446.909078  57.370274    1.507428    -0.415183   \n16    40.682431    33.655310  47.628601   -0.247499    -0.129220   \n17    57.258738    32.331023  70.890323    3.496121     1.582479   \n18     2.805176     2.287804  46.916841   -0.042026    -0.041609   \n19     0.173848     0.150658  50.514912    0.001316     0.001878   \n20     0.000040     0.000026  51.804325    0.000002     0.000002   \n21     0.754410     0.680100  52.903474   -0.001018    -0.002864   \n22     0.073975     0.056562  64.662035    0.004337     0.004191   \n23    87.800573    81.217628  50.824078    0.068510     0.062937   \n24   690.865004   539.566807  80.414319   23.137625    11.421901   \n25    33.175145    27.515261  47.694402    0.203847     0.470010   \n26     0.001232     0.000802  46.507980   -0.000061    -0.000072   \n27   164.109860   126.482350  84.049611    7.544014     5.512350   \n28     6.246645     5.567331  50.652714   -0.026714    -0.060197   \n29     2.167510     1.921170  56.579034   -0.015289    -0.037533   \n30     8.899141     8.146230  50.971031   -0.055106    -0.088041   \n31     0.865729     0.774006  42.567200   -0.006256    -0.003726   \n32   119.887308    99.615674  49.815714    0.909548     2.797881   \n33     4.439394     3.153717  45.557778   -0.071219    -0.045787   \n34     0.047137     0.041782  52.113399    0.000209    -0.000142   \n35     0.463725     0.362700  48.704419    0.001250     0.002887   \n\n    MACD_Histogram    Trend  Volume_Confirmation Bollinger_Signal  RSI_Signal  \\\n0     8.787186e-02  Bullish                False          Neutral     Neutral   \n1    -2.490708e-01  Bullish                False          Neutral     Neutral   \n2     4.531380e-04  Bullish                 True          Neutral     Neutral   \n3    -1.112904e-02  Bearish                False          Neutral     Neutral   \n4    -7.483892e-05  Bearish                 True          Neutral     Neutral   \n5    -1.003496e+01  Bullish                False          Neutral     Neutral   \n6    -5.679471e-03  Bearish                False          Neutral     Neutral   \n7     5.934629e-02  Bullish                False          Neutral     Neutral   \n8     9.067054e-04  Bearish                False          Neutral     Neutral   \n9    -4.858103e-04  Bearish                False          Neutral     Neutral   \n10   -4.638627e-01  Bearish                False          Neutral     Neutral   \n11   -6.728351e-02  Bearish                False          Neutral     Neutral   \n12   -7.909836e-02  Bearish                False          Neutral     Neutral   \n13   -2.642609e-03  Bearish                False          Neutral     Neutral   \n14   -1.324385e-01  Bearish                 True          Neutral     Neutral   \n15    1.922611e+00  Bullish                 True          Neutral     Neutral   \n16   -1.182789e-01  Bearish                False          Neutral     Neutral   \n17    1.913642e+00  Bullish                False       Overbought  Overbought   \n18   -4.164761e-04  Bearish                False          Neutral     Neutral   \n19   -5.616329e-04  Bearish                 True          Neutral     Neutral   \n20   -6.014584e-07  Bearish                False          Neutral     Neutral   \n21    1.846435e-03  Bullish                 True          Neutral     Neutral   \n22    1.461879e-04  Bullish                False       Overbought     Neutral   \n23    5.573040e-03  Bearish                 True          Neutral     Neutral   \n24    1.171572e+01  Bullish                False       Overbought  Overbought   \n25   -2.661631e-01  Bearish                False          Neutral     Neutral   \n26    1.108749e-05  Bearish                False          Neutral     Neutral   \n27    2.031664e+00  Bullish                False       Overbought  Overbought   \n28    3.348302e-02  Bullish                False          Neutral     Neutral   \n29    2.224386e-02  Bullish                 True       Overbought     Neutral   \n30    3.293473e-02  Bullish                False          Neutral     Neutral   \n31   -2.530019e-03  Bearish                False          Neutral     Neutral   \n32   -1.888333e+00  Bearish                False          Neutral     Neutral   \n33   -2.543280e-02  Bearish                False          Neutral     Neutral   \n34    3.509327e-04  Bullish                False          Neutral     Neutral   \n35   -1.636304e-03  Bearish                False          Neutral     Neutral   \n\n   MACD_Signal_Char        Price_MA_Relation                  Trend_Volume  \\\n0           Bullish                  Neutral                       Neutral   \n1           Bearish                  Neutral                       Neutral   \n2           Bullish                  Neutral  Bullish with Volume Increase   \n3           Bearish                  Neutral                       Neutral   \n4           Bearish                  Neutral  Bearish with Volume Increase   \n5           Bearish                  Neutral                       Neutral   \n6           Bearish                  Neutral                       Neutral   \n7           Bullish                  Neutral                       Neutral   \n8           Bullish                  Neutral                       Neutral   \n9           Bearish                  Neutral                       Neutral   \n10          Bearish  Potential Reversal Down                       Neutral   \n11          Bearish                  Neutral                       Neutral   \n12          Bearish                  Neutral                       Neutral   \n13          Bearish  Potential Reversal Down                       Neutral   \n14          Bearish  Potential Reversal Down                       Neutral   \n15          Bullish                  Neutral  Bullish with Volume Increase   \n16          Bearish                  Neutral                       Neutral   \n17          Bullish                  Neutral                       Neutral   \n18          Bearish                  Neutral                       Neutral   \n19          Bearish  Potential Reversal Down  Bearish with Volume Increase   \n20          Bearish  Potential Reversal Down                       Neutral   \n21          Bullish                  Neutral  Bullish with Volume Increase   \n22          Bullish                  Neutral                       Neutral   \n23          Bullish  Potential Reversal Down                       Neutral   \n24          Bullish                  Neutral                       Neutral   \n25          Bearish                  Neutral                       Neutral   \n26          Bullish  Potential Reversal Down                       Neutral   \n27          Bullish                  Neutral                       Neutral   \n28          Bullish                  Neutral                       Neutral   \n29          Bullish                  Neutral  Bullish with Volume Increase   \n30          Bullish                  Neutral  Bullish with Volume Increase   \n31          Bearish                  Neutral                       Neutral   \n32          Bearish                  Neutral                       Neutral   \n33          Bearish                  Neutral                       Neutral   \n34          Bullish                  Neutral                       Neutral   \n35          Bearish  Potential Reversal Down                       Neutral   \n\n                   Bollinger_Volume RSI_Volume  \\\n0                           Neutral    Neutral   \n1                           Neutral    Neutral   \n2                           Neutral    Neutral   \n3                           Neutral    Neutral   \n4                           Neutral    Neutral   \n5                           Neutral    Neutral   \n6                           Neutral    Neutral   \n7                           Neutral    Neutral   \n8                           Neutral    Neutral   \n9                           Neutral    Neutral   \n10                          Neutral    Neutral   \n11                          Neutral    Neutral   \n12                          Neutral    Neutral   \n13                          Neutral    Neutral   \n14                          Neutral    Neutral   \n15                          Neutral    Neutral   \n16                          Neutral    Neutral   \n17                          Neutral    Neutral   \n18                          Neutral    Neutral   \n19                          Neutral    Neutral   \n20                          Neutral    Neutral   \n21                          Neutral    Neutral   \n22                          Neutral    Neutral   \n23                          Neutral    Neutral   \n24                          Neutral    Neutral   \n25                          Neutral    Neutral   \n26                          Neutral    Neutral   \n27                          Neutral    Neutral   \n28                          Neutral    Neutral   \n29  Overbought with Volume Increase    Neutral   \n30                          Neutral    Neutral   \n31                          Neutral    Neutral   \n32                          Neutral    Neutral   \n33                          Neutral    Neutral   \n34                          Neutral    Neutral   \n35                          Neutral    Neutral   \n\n                        MACD_Signal_Volume Market_Context_y  \n0                                  Neutral          Neutral  \n1                                  Neutral          Neutral  \n2   Bullish Crossover with Volume Increase          Neutral  \n3                                  Neutral          Neutral  \n4   Bearish Crossover with Volume Increase          Neutral  \n5                                  Neutral          Neutral  \n6                                  Neutral          Neutral  \n7                                  Neutral          Neutral  \n8                                  Neutral          Neutral  \n9                                  Neutral          Neutral  \n10                                 Neutral          Neutral  \n11                                 Neutral          Neutral  \n12                                 Neutral          Neutral  \n13                                 Neutral          Neutral  \n14  Bearish Crossover with Volume Increase          Neutral  \n15  Bullish Crossover with Volume Increase          Neutral  \n16                                 Neutral          Neutral  \n17                                 Neutral          Neutral  \n18                                 Neutral          Neutral  \n19  Bearish Crossover with Volume Increase          Neutral  \n20                                 Neutral          Neutral  \n21  Bullish Crossover with Volume Increase          Neutral  \n22                                 Neutral          Neutral  \n23  Bullish Crossover with Volume Increase          Neutral  \n24                                 Neutral          Neutral  \n25                                 Neutral          Neutral  \n26                                 Neutral          Neutral  \n27                                 Neutral          Neutral  \n28                                 Neutral          Neutral  \n29  Bullish Crossover with Volume Increase          Neutral  \n30  Bullish Crossover with Volume Increase          Neutral  \n31                                 Neutral          Neutral  \n32                                 Neutral          Neutral  \n33                                 Neutral          Neutral  \n34                                 Neutral          Neutral  \n35                                 Neutral          Neutral  ",
                        "text/html": "<div>\n<style scoped>\n    .dataframe tbody tr th:only-of-type {\n        vertical-align: middle;\n    }\n\n    .dataframe tbody tr th {\n        vertical-align: top;\n    }\n\n    .dataframe thead th {\n        text-align: right;\n    }\n</style>\n<table border=\"1\" class=\"dataframe\">\n  <thead>\n    <tr style=\"text-align: right;\">\n      <th></th>\n      <th>Date_x</th>\n      <th>Open_x</th>\n      <th>High_x</th>\n      <th>Low_x</th>\n      <th>Close_x</th>\n      <th>Adj Close_x</th>\n      <th>Volume_x</th>\n      <th>Price_Change</th>\n      <th>Volume_Change</th>\n      <th>Potential_Pump_and_Dump</th>\n      <th>Market_Context_x</th>\n      <th>Index</th>\n      <th>Date_y</th>\n      <th>Open_y</th>\n      <th>High_y</th>\n      <th>Low_y</th>\n      <th>Close_y</th>\n      <th>Adj Close_y</th>\n      <th>Volume_y</th>\n      <th>SMA_20</th>\n      <th>EMA_20</th>\n      <th>SMA</th>\n      <th>STD</th>\n      <th>Upper_Band</th>\n      <th>Lower_Band</th>\n      <th>RSI_14</th>\n      <th>MACD</th>\n      <th>MACD_Signal</th>\n      <th>MACD_Histogram</th>\n      <th>Trend</th>\n      <th>Volume_Confirmation</th>\n      <th>Bollinger_Signal</th>\n      <th>RSI_Signal</th>\n      <th>MACD_Signal_Char</th>\n      <th>Price_MA_Relation</th>\n      <th>Trend_Volume</th>\n      <th>Bollinger_Volume</th>\n      <th>RSI_Volume</th>\n      <th>MACD_Signal_Volume</th>\n      <th>Market_Context_y</th>\n    </tr>\n  </thead>\n  <tbody>\n    <tr>\n      <th>0</th>\n      <td>2024-06-06</td>\n      <td>8.613020</td>\n      <td>8.697354</td>\n      <td>8.385620</td>\n      <td>8.433172</td>\n      <td>8.433172</td>\n      <td>54664343</td>\n      <td>-2.088095</td>\n      <td>-36.962275</td>\n      <td>False</td>\n      <td>Neutral</td>\n      <td>AXS</td>\n      <td>2024-06-06</td>\n      <td>8.613020</td>\n      <td>8.697354</td>\n      <td>8.385620</td>\n      <td>8.433172</td>\n      <td>8.433172</td>\n      <td>54664343</td>\n      <td>7.850865</td>\n      <td>7.881686</td>\n      <td>7.850865</td>\n      <td>0.367253</td>\n      <td>8.585372</td>\n      <td>7.116358</td>\n      <td>59.487774</td>\n      <td>0.203621</td>\n      <td>0.115749</td>\n      <td>8.787186e-02</td>\n      <td>Bullish</td>\n      <td>False</td>\n      <td>Neutral</td>\n      <td>Neutral</td>\n      <td>Bullish</td>\n      <td>Neutral</td>\n      <td>Neutral</td>\n      <td>Neutral</td>\n      <td>Neutral</td>\n      <td>Neutral</td>\n      <td>Neutral</td>\n    </tr>\n    <tr>\n      <th>1</th>\n      <td>2024-06-06</td>\n      <td>25.264006</td>\n      <td>25.652092</td>\n      <td>23.842999</td>\n      <td>24.053110</td>\n      <td>24.053110</td>\n      <td>94818250</td>\n      <td>-3.550290</td>\n      <td>-19.832567</td>\n      <td>False</td>\n      <td>Neutral</td>\n      <td>ENS</td>\n      <td>2024-06-06</td>\n      <td>25.264006</td>\n      <td>25.652092</td>\n      <td>23.842999</td>\n      <td>24.053110</td>\n      <td>24.053110</td>\n      <td>94818250</td>\n      <td>23.448359</td>\n      <td>23.294915</td>\n      <td>23.448359</td>\n      <td>3.754635</td>\n      <td>30.957629</td>\n      <td>15.939089</td>\n      <td>56.248530</td>\n      <td>2.240070</td>\n      <td>2.489140</td>\n      <td>-2.490708e-01</td>\n      <td>Bullish</td>\n      <td>False</td>\n      <td>Neutral</td>\n      <td>Neutral</td>\n      <td>Bearish</td>\n      <td>Neutral</td>\n      <td>Neutral</td>\n      <td>Neutral</td>\n      <td>Neutral</td>\n      <td>Neutral</td>\n      <td>Neutral</td>\n    </tr>\n    <tr>\n      <th>2</th>\n      <td>2024-06-06</td>\n      <td>1.482461</td>\n      <td>1.502117</td>\n      <td>1.466940</td>\n      <td>1.482463</td>\n      <td>1.482463</td>\n      <td>7729841</td>\n      <td>0.000135</td>\n      <td>14.515722</td>\n      <td>False</td>\n      <td>Neutral</td>\n      <td>NEXO</td>\n      <td>2024-06-06</td>\n      <td>1.482461</td>\n      <td>1.502117</td>\n      <td>1.466940</td>\n      <td>1.482463</td>\n      <td>1.482463</td>\n      <td>7729841</td>\n      <td>1.428476</td>\n      <td>1.417869</td>\n      <td>1.428476</td>\n      <td>0.043437</td>\n      <td>1.515349</td>\n      <td>1.341603</td>\n      <td>65.363184</td>\n      <td>0.040421</td>\n      <td>0.039968</td>\n      <td>4.531380e-04</td>\n      <td>Bullish</td>\n      <td>True</td>\n      <td>Neutral</td>\n      <td>Neutral</td>\n      <td>Bullish</td>\n      <td>Neutral</td>\n      <td>Bullish with Volume Increase</td>\n      <td>Neutral</td>\n      <td>Neutral</td>\n      <td>Bullish Crossover with Volume Increase</td>\n      <td>Neutral</td>\n    </tr>\n    <tr>\n      <th>3</th>\n      <td>2024-06-06</td>\n      <td>7.248750</td>\n      <td>7.279625</td>\n      <td>7.068440</td>\n      <td>7.142014</td>\n      <td>7.142014</td>\n      <td>154128107</td>\n      <td>-1.472176</td>\n      <td>-9.970235</td>\n      <td>False</td>\n      <td>Neutral</td>\n      <td>DOT</td>\n      <td>2024-06-06</td>\n      <td>7.248750</td>\n      <td>7.279625</td>\n      <td>7.068440</td>\n      <td>7.142014</td>\n      <td>7.142014</td>\n      <td>154128107</td>\n      <td>7.247596</td>\n      <td>7.163746</td>\n      <td>7.247596</td>\n      <td>0.227202</td>\n      <td>7.702001</td>\n      <td>6.793192</td>\n      <td>49.153588</td>\n      <td>-0.010396</td>\n      <td>0.000733</td>\n      <td>-1.112904e-02</td>\n      <td>Bearish</td>\n      <td>False</td>\n      <td>Neutral</td>\n      <td>Neutral</td>\n      <td>Bearish</td>\n      <td>Neutral</td>\n      <td>Neutral</td>\n      <td>Neutral</td>\n      <td>Neutral</td>\n      <td>Neutral</td>\n      <td>Neutral</td>\n    </tr>\n    <tr>\n      <th>4</th>\n      <td>2024-06-06</td>\n      <td>0.525706</td>\n      <td>0.527604</td>\n      <td>0.517547</td>\n      <td>0.521578</td>\n      <td>0.521578</td>\n      <td>1194300808</td>\n      <td>-0.786173</td>\n      <td>3.489912</td>\n      <td>False</td>\n      <td>Neutral</td>\n      <td>XRP</td>\n      <td>2024-06-06</td>\n      <td>0.525706</td>\n      <td>0.527604</td>\n      <td>0.517547</td>\n      <td>0.521578</td>\n      <td>0.521578</td>\n      <td>1194300808</td>\n      <td>0.525640</td>\n      <td>0.523243</td>\n      <td>0.525640</td>\n      <td>0.008434</td>\n      <td>0.542508</td>\n      <td>0.508772</td>\n      <td>48.476282</td>\n      <td>-0.001031</td>\n      <td>-0.000956</td>\n      <td>-7.483892e-05</td>\n      <td>Bearish</td>\n      <td>True</td>\n      <td>Neutral</td>\n      <td>Neutral</td>\n      <td>Bearish</td>\n      <td>Neutral</td>\n      <td>Bearish with Volume Increase</td>\n      <td>Neutral</td>\n      <td>Neutral</td>\n      <td>Bearish Crossover with Volume Increase</td>\n      <td>Neutral</td>\n    </tr>\n    <tr>\n      <th>5</th>\n      <td>2024-06-06</td>\n      <td>3864.263428</td>\n      <td>3878.052246</td>\n      <td>3761.775391</td>\n      <td>3811.605957</td>\n      <td>3811.605957</td>\n      <td>13606583873</td>\n      <td>-1.362616</td>\n      <td>-12.102367</td>\n      <td>False</td>\n      <td>Neutral</td>\n      <td>ETH</td>\n      <td>2024-06-06</td>\n      <td>3864.263428</td>\n      <td>3878.052246</td>\n      <td>3761.775391</td>\n      <td>3811.605957</td>\n      <td>3811.605957</td>\n      <td>13606583873</td>\n      <td>3715.768835</td>\n      <td>3671.349114</td>\n      <td>3715.768835</td>\n      <td>217.688263</td>\n      <td>4151.145362</td>\n      <td>3280.392309</td>\n      <td>62.756544</td>\n      <td>152.767496</td>\n      <td>162.802453</td>\n      <td>-1.003496e+01</td>\n      <td>Bullish</td>\n      <td>False</td>\n      <td>Neutral</td>\n      <td>Neutral</td>\n      <td>Bearish</td>\n      <td>Neutral</td>\n      <td>Neutral</td>\n      <td>Neutral</td>\n      <td>Neutral</td>\n      <td>Neutral</td>\n      <td>Neutral</td>\n    </tr>\n    <tr>\n      <th>6</th>\n      <td>2024-06-06</td>\n      <td>1.122950</td>\n      <td>1.123754</td>\n      <td>1.077755</td>\n      <td>1.088713</td>\n      <td>1.088713</td>\n      <td>226273579</td>\n      <td>-3.048586</td>\n      <td>-19.456279</td>\n      <td>False</td>\n      <td>Neutral</td>\n      <td>ARB11841</td>\n      <td>2024-06-06</td>\n      <td>1.122950</td>\n      <td>1.123754</td>\n      <td>1.077755</td>\n      <td>1.088713</td>\n      <td>1.088713</td>\n      <td>226273579</td>\n      <td>1.134718</td>\n      <td>1.118514</td>\n      <td>1.134718</td>\n      <td>0.062684</td>\n      <td>1.260086</td>\n      <td>1.009351</td>\n      <td>46.033242</td>\n      <td>0.001909</td>\n      <td>0.007588</td>\n      <td>-5.679471e-03</td>\n      <td>Bearish</td>\n      <td>False</td>\n      <td>Neutral</td>\n      <td>Neutral</td>\n      <td>Bearish</td>\n      <td>Neutral</td>\n      <td>Neutral</td>\n      <td>Neutral</td>\n      <td>Neutral</td>\n      <td>Neutral</td>\n      <td>Neutral</td>\n    </tr>\n    <tr>\n      <th>7</th>\n      <td>2024-06-06</td>\n      <td>10.468363</td>\n      <td>10.527226</td>\n      <td>10.209706</td>\n      <td>10.430121</td>\n      <td>10.430121</td>\n      <td>69699245</td>\n      <td>-0.365310</td>\n      <td>-44.288197</td>\n      <td>False</td>\n      <td>Neutral</td>\n      <td>TIA22861</td>\n      <td>2024-06-06</td>\n      <td>10.468363</td>\n      <td>10.527226</td>\n      <td>10.209706</td>\n      <td>10.430121</td>\n      <td>10.430121</td>\n      <td>69699245</td>\n      <td>10.154487</td>\n      <td>10.344029</td>\n      <td>10.154487</td>\n      <td>0.899570</td>\n      <td>11.953627</td>\n      <td>8.355348</td>\n      <td>51.426219</td>\n      <td>0.272020</td>\n      <td>0.212673</td>\n      <td>5.934629e-02</td>\n      <td>Bullish</td>\n      <td>False</td>\n      <td>Neutral</td>\n      <td>Neutral</td>\n      <td>Bullish</td>\n      <td>Neutral</td>\n      <td>Neutral</td>\n      <td>Neutral</td>\n      <td>Neutral</td>\n      <td>Neutral</td>\n      <td>Neutral</td>\n    </tr>\n    <tr>\n      <th>8</th>\n      <td>2024-06-06</td>\n      <td>0.461175</td>\n      <td>0.461865</td>\n      <td>0.452339</td>\n      <td>0.458102</td>\n      <td>0.458102</td>\n      <td>281512944</td>\n      <td>-0.666341</td>\n      <td>-6.424282</td>\n      <td>False</td>\n      <td>Neutral</td>\n      <td>ADA</td>\n      <td>2024-06-06</td>\n      <td>0.461175</td>\n      <td>0.461865</td>\n      <td>0.452339</td>\n      <td>0.458102</td>\n      <td>0.458102</td>\n      <td>281512944</td>\n      <td>0.463960</td>\n      <td>0.459246</td>\n      <td>0.463960</td>\n      <td>0.015491</td>\n      <td>0.494942</td>\n      <td>0.432978</td>\n      <td>48.051291</td>\n      <td>-0.003900</td>\n      <td>-0.004807</td>\n      <td>9.067054e-04</td>\n      <td>Bearish</td>\n      <td>False</td>\n      <td>Neutral</td>\n      <td>Neutral</td>\n      <td>Bullish</td>\n      <td>Neutral</td>\n      <td>Neutral</td>\n      <td>Neutral</td>\n      <td>Neutral</td>\n      <td>Neutral</td>\n      <td>Neutral</td>\n    </tr>\n    <tr>\n      <th>9</th>\n      <td>2024-06-06</td>\n      <td>0.104454</td>\n      <td>0.105027</td>\n      <td>0.100215</td>\n      <td>0.101416</td>\n      <td>0.101416</td>\n      <td>52088501</td>\n      <td>-2.908457</td>\n      <td>-11.949100</td>\n      <td>False</td>\n      <td>Neutral</td>\n      <td>HBAR</td>\n      <td>2024-06-06</td>\n      <td>0.104454</td>\n      <td>0.105027</td>\n      <td>0.100215</td>\n      <td>0.101416</td>\n      <td>0.101416</td>\n      <td>52088501</td>\n      <td>0.106369</td>\n      <td>0.104534</td>\n      <td>0.106369</td>\n      <td>0.005616</td>\n      <td>0.117601</td>\n      <td>0.095137</td>\n      <td>44.093392</td>\n      <td>-0.001812</td>\n      <td>-0.001326</td>\n      <td>-4.858103e-04</td>\n      <td>Bearish</td>\n      <td>False</td>\n      <td>Neutral</td>\n      <td>Neutral</td>\n      <td>Bearish</td>\n      <td>Neutral</td>\n      <td>Neutral</td>\n      <td>Neutral</td>\n      <td>Neutral</td>\n      <td>Neutral</td>\n      <td>Neutral</td>\n    </tr>\n    <tr>\n      <th>10</th>\n      <td>2024-06-06</td>\n      <td>173.482910</td>\n      <td>174.304703</td>\n      <td>167.864212</td>\n      <td>170.016220</td>\n      <td>170.016220</td>\n      <td>1965442993</td>\n      <td>-1.998289</td>\n      <td>-18.307594</td>\n      <td>False</td>\n      <td>Neutral</td>\n      <td>SOL</td>\n      <td>2024-06-06</td>\n      <td>173.482910</td>\n      <td>174.304703</td>\n      <td>167.864212</td>\n      <td>170.016220</td>\n      <td>170.016220</td>\n      <td>1965442993</td>\n      <td>170.426908</td>\n      <td>166.694092</td>\n      <td>170.426908</td>\n      <td>5.676304</td>\n      <td>181.779516</td>\n      <td>159.074300</td>\n      <td>54.926401</td>\n      <td>3.116636</td>\n      <td>3.580499</td>\n      <td>-4.638627e-01</td>\n      <td>Bearish</td>\n      <td>False</td>\n      <td>Neutral</td>\n      <td>Neutral</td>\n      <td>Bearish</td>\n      <td>Potential Reversal Down</td>\n      <td>Neutral</td>\n      <td>Neutral</td>\n      <td>Neutral</td>\n      <td>Neutral</td>\n      <td>Neutral</td>\n    </tr>\n    <tr>\n      <th>11</th>\n      <td>2024-06-06</td>\n      <td>7.655090</td>\n      <td>7.674423</td>\n      <td>7.247033</td>\n      <td>7.333911</td>\n      <td>7.333911</td>\n      <td>214474286</td>\n      <td>-4.195627</td>\n      <td>-18.678567</td>\n      <td>False</td>\n      <td>Neutral</td>\n      <td>NEAR</td>\n      <td>2024-06-06</td>\n      <td>7.655090</td>\n      <td>7.674423</td>\n      <td>7.247033</td>\n      <td>7.333911</td>\n      <td>7.333911</td>\n      <td>214474286</td>\n      <td>7.657712</td>\n      <td>7.484487</td>\n      <td>7.657712</td>\n      <td>0.334169</td>\n      <td>8.326051</td>\n      <td>6.989374</td>\n      <td>48.094446</td>\n      <td>0.006304</td>\n      <td>0.073588</td>\n      <td>-6.728351e-02</td>\n      <td>Bearish</td>\n      <td>False</td>\n      <td>Neutral</td>\n      <td>Neutral</td>\n      <td>Bearish</td>\n      <td>Neutral</td>\n      <td>Neutral</td>\n      <td>Neutral</td>\n      <td>Neutral</td>\n      <td>Neutral</td>\n      <td>Neutral</td>\n    </tr>\n    <tr>\n      <th>12</th>\n      <td>2024-06-06</td>\n      <td>6.239586</td>\n      <td>6.258838</td>\n      <td>5.967549</td>\n      <td>6.015190</td>\n      <td>6.015190</td>\n      <td>185064776</td>\n      <td>-3.596328</td>\n      <td>-15.354229</td>\n      <td>False</td>\n      <td>Neutral</td>\n      <td>RUNE</td>\n      <td>2024-06-06</td>\n      <td>6.239586</td>\n      <td>6.258838</td>\n      <td>5.967549</td>\n      <td>6.015190</td>\n      <td>6.015190</td>\n      <td>185064776</td>\n      <td>6.464435</td>\n      <td>6.254512</td>\n      <td>6.464435</td>\n      <td>0.367684</td>\n      <td>7.199802</td>\n      <td>5.729067</td>\n      <td>45.695136</td>\n      <td>-0.017075</td>\n      <td>0.062024</td>\n      <td>-7.909836e-02</td>\n      <td>Bearish</td>\n      <td>False</td>\n      <td>Neutral</td>\n      <td>Neutral</td>\n      <td>Bearish</td>\n      <td>Neutral</td>\n      <td>Neutral</td>\n      <td>Neutral</td>\n      <td>Neutral</td>\n      <td>Neutral</td>\n      <td>Neutral</td>\n    </tr>\n    <tr>\n      <th>13</th>\n      <td>2024-06-06</td>\n      <td>0.828139</td>\n      <td>0.835990</td>\n      <td>0.793097</td>\n      <td>0.806348</td>\n      <td>0.806348</td>\n      <td>147047261</td>\n      <td>-2.631322</td>\n      <td>-13.688169</td>\n      <td>False</td>\n      <td>Neutral</td>\n      <td>FTM</td>\n      <td>2024-06-06</td>\n      <td>0.828139</td>\n      <td>0.835990</td>\n      <td>0.793097</td>\n      <td>0.806348</td>\n      <td>0.806348</td>\n      <td>147047261</td>\n      <td>0.825279</td>\n      <td>0.802339</td>\n      <td>0.825279</td>\n      <td>0.036970</td>\n      <td>0.899218</td>\n      <td>0.751339</td>\n      <td>51.546306</td>\n      <td>0.011315</td>\n      <td>0.013957</td>\n      <td>-2.642609e-03</td>\n      <td>Bearish</td>\n      <td>False</td>\n      <td>Neutral</td>\n      <td>Neutral</td>\n      <td>Bearish</td>\n      <td>Potential Reversal Down</td>\n      <td>Neutral</td>\n      <td>Neutral</td>\n      <td>Neutral</td>\n      <td>Neutral</td>\n      <td>Neutral</td>\n    </tr>\n    <tr>\n      <th>14</th>\n      <td>2024-06-06</td>\n      <td>17.738054</td>\n      <td>17.763636</td>\n      <td>17.136850</td>\n      <td>17.268896</td>\n      <td>17.268896</td>\n      <td>410216703</td>\n      <td>-2.644924</td>\n      <td>16.187029</td>\n      <td>False</td>\n      <td>Neutral</td>\n      <td>LINK</td>\n      <td>2024-06-06</td>\n      <td>17.738054</td>\n      <td>17.763636</td>\n      <td>17.136850</td>\n      <td>17.268896</td>\n      <td>17.268896</td>\n      <td>410216703</td>\n      <td>17.531262</td>\n      <td>17.263488</td>\n      <td>17.531262</td>\n      <td>0.772807</td>\n      <td>19.076877</td>\n      <td>15.985648</td>\n      <td>53.014222</td>\n      <td>0.650853</td>\n      <td>0.783292</td>\n      <td>-1.324385e-01</td>\n      <td>Bearish</td>\n      <td>True</td>\n      <td>Neutral</td>\n      <td>Neutral</td>\n      <td>Bearish</td>\n      <td>Potential Reversal Down</td>\n      <td>Neutral</td>\n      <td>Neutral</td>\n      <td>Neutral</td>\n      <td>Bearish Crossover with Volume Increase</td>\n      <td>Neutral</td>\n    </tr>\n    <tr>\n      <th>15</th>\n      <td>2024-06-06</td>\n      <td>495.131348</td>\n      <td>501.904449</td>\n      <td>487.730286</td>\n      <td>495.823456</td>\n      <td>495.823456</td>\n      <td>308007650</td>\n      <td>0.139783</td>\n      <td>7.831254</td>\n      <td>False</td>\n      <td>Neutral</td>\n      <td>BCH</td>\n      <td>2024-06-06</td>\n      <td>495.131348</td>\n      <td>501.904449</td>\n      <td>487.730286</td>\n      <td>495.823456</td>\n      <td>495.823456</td>\n      <td>308007650</td>\n      <td>482.690536</td>\n      <td>476.288711</td>\n      <td>482.690536</td>\n      <td>17.890729</td>\n      <td>518.471995</td>\n      <td>446.909078</td>\n      <td>57.370274</td>\n      <td>1.507428</td>\n      <td>-0.415183</td>\n      <td>1.922611e+00</td>\n      <td>Bullish</td>\n      <td>True</td>\n      <td>Neutral</td>\n      <td>Neutral</td>\n      <td>Bullish</td>\n      <td>Neutral</td>\n      <td>Bullish with Volume Increase</td>\n      <td>Neutral</td>\n      <td>Neutral</td>\n      <td>Bullish Crossover with Volume Increase</td>\n      <td>Neutral</td>\n    </tr>\n    <tr>\n      <th>16</th>\n      <td>2024-06-06</td>\n      <td>36.521896</td>\n      <td>37.143639</td>\n      <td>35.780071</td>\n      <td>35.911816</td>\n      <td>35.911816</td>\n      <td>288389895</td>\n      <td>-1.669618</td>\n      <td>-14.905494</td>\n      <td>False</td>\n      <td>Neutral</td>\n      <td>AVAX</td>\n      <td>2024-06-06</td>\n      <td>36.521896</td>\n      <td>37.143639</td>\n      <td>35.780071</td>\n      <td>35.911816</td>\n      <td>35.911816</td>\n      <td>288389895</td>\n      <td>37.168871</td>\n      <td>36.349001</td>\n      <td>37.168871</td>\n      <td>1.756780</td>\n      <td>40.682431</td>\n      <td>33.655310</td>\n      <td>47.628601</td>\n      <td>-0.247499</td>\n      <td>-0.129220</td>\n      <td>-1.182789e-01</td>\n      <td>Bearish</td>\n      <td>False</td>\n      <td>Neutral</td>\n      <td>Neutral</td>\n      <td>Bearish</td>\n      <td>Neutral</td>\n      <td>Neutral</td>\n      <td>Neutral</td>\n      <td>Neutral</td>\n      <td>Neutral</td>\n      <td>Neutral</td>\n    </tr>\n    <tr>\n      <th>17</th>\n      <td>2024-06-06</td>\n      <td>57.493755</td>\n      <td>59.088379</td>\n      <td>55.693928</td>\n      <td>57.747047</td>\n      <td>57.747047</td>\n      <td>221002007</td>\n      <td>0.440556</td>\n      <td>-37.143530</td>\n      <td>False</td>\n      <td>Neutral</td>\n      <td>ORDI</td>\n      <td>2024-06-06</td>\n      <td>57.493755</td>\n      <td>59.088379</td>\n      <td>55.693928</td>\n      <td>57.747047</td>\n      <td>57.747047</td>\n      <td>221002007</td>\n      <td>44.794880</td>\n      <td>46.668675</td>\n      <td>44.794880</td>\n      <td>6.231929</td>\n      <td>57.258738</td>\n      <td>32.331023</td>\n      <td>70.890323</td>\n      <td>3.496121</td>\n      <td>1.582479</td>\n      <td>1.913642e+00</td>\n      <td>Bullish</td>\n      <td>False</td>\n      <td>Overbought</td>\n      <td>Overbought</td>\n      <td>Bullish</td>\n      <td>Neutral</td>\n      <td>Neutral</td>\n      <td>Neutral</td>\n      <td>Neutral</td>\n      <td>Neutral</td>\n      <td>Neutral</td>\n    </tr>\n    <tr>\n      <th>18</th>\n      <td>2024-06-06</td>\n      <td>2.523514</td>\n      <td>2.529567</td>\n      <td>2.449876</td>\n      <td>2.483191</td>\n      <td>2.483191</td>\n      <td>177120897</td>\n      <td>-1.597891</td>\n      <td>-17.072402</td>\n      <td>False</td>\n      <td>Neutral</td>\n      <td>OP</td>\n      <td>2024-06-06</td>\n      <td>2.523514</td>\n      <td>2.529567</td>\n      <td>2.449876</td>\n      <td>2.483191</td>\n      <td>2.483191</td>\n      <td>177120897</td>\n      <td>2.546490</td>\n      <td>2.516487</td>\n      <td>2.546490</td>\n      <td>0.129343</td>\n      <td>2.805176</td>\n      <td>2.287804</td>\n      <td>46.916841</td>\n      <td>-0.042026</td>\n      <td>-0.041609</td>\n      <td>-4.164761e-04</td>\n      <td>Bearish</td>\n      <td>False</td>\n      <td>Neutral</td>\n      <td>Neutral</td>\n      <td>Bearish</td>\n      <td>Neutral</td>\n      <td>Neutral</td>\n      <td>Neutral</td>\n      <td>Neutral</td>\n      <td>Neutral</td>\n      <td>Neutral</td>\n    </tr>\n    <tr>\n      <th>19</th>\n      <td>2024-06-06</td>\n      <td>0.163235</td>\n      <td>0.165170</td>\n      <td>0.158657</td>\n      <td>0.160159</td>\n      <td>0.160159</td>\n      <td>893170339</td>\n      <td>-1.884400</td>\n      <td>8.916068</td>\n      <td>False</td>\n      <td>Neutral</td>\n      <td>DOGE</td>\n      <td>2024-06-06</td>\n      <td>0.163235</td>\n      <td>0.165170</td>\n      <td>0.158657</td>\n      <td>0.160159</td>\n      <td>0.160159</td>\n      <td>893170339</td>\n      <td>0.162253</td>\n      <td>0.160245</td>\n      <td>0.162253</td>\n      <td>0.005797</td>\n      <td>0.173848</td>\n      <td>0.150658</td>\n      <td>50.514912</td>\n      <td>0.001316</td>\n      <td>0.001878</td>\n      <td>-5.616329e-04</td>\n      <td>Bearish</td>\n      <td>True</td>\n      <td>Neutral</td>\n      <td>Neutral</td>\n      <td>Bearish</td>\n      <td>Potential Reversal Down</td>\n      <td>Bearish with Volume Increase</td>\n      <td>Neutral</td>\n      <td>Neutral</td>\n      <td>Bearish Crossover with Volume Increase</td>\n      <td>Neutral</td>\n    </tr>\n    <tr>\n      <th>20</th>\n      <td>2024-06-06</td>\n      <td>0.000034</td>\n      <td>0.000034</td>\n      <td>0.000032</td>\n      <td>0.000032</td>\n      <td>0.000032</td>\n      <td>317351610</td>\n      <td>-5.882353</td>\n      <td>-49.493301</td>\n      <td>False</td>\n      <td>Neutral</td>\n      <td>BONK</td>\n      <td>2024-06-06</td>\n      <td>0.000034</td>\n      <td>0.000034</td>\n      <td>0.000032</td>\n      <td>0.000032</td>\n      <td>0.000032</td>\n      <td>317351610</td>\n      <td>0.000033</td>\n      <td>0.000032</td>\n      <td>0.000033</td>\n      <td>0.000004</td>\n      <td>0.000040</td>\n      <td>0.000026</td>\n      <td>51.804325</td>\n      <td>0.000002</td>\n      <td>0.000002</td>\n      <td>-6.014584e-07</td>\n      <td>Bearish</td>\n      <td>False</td>\n      <td>Neutral</td>\n      <td>Neutral</td>\n      <td>Bearish</td>\n      <td>Potential Reversal Down</td>\n      <td>Neutral</td>\n      <td>Neutral</td>\n      <td>Neutral</td>\n      <td>Neutral</td>\n      <td>Neutral</td>\n    </tr>\n    <tr>\n      <th>21</th>\n      <td>2024-06-06</td>\n      <td>0.724675</td>\n      <td>0.739765</td>\n      <td>0.714774</td>\n      <td>0.725595</td>\n      <td>0.725595</td>\n      <td>315340853</td>\n      <td>0.127230</td>\n      <td>34.885447</td>\n      <td>False</td>\n      <td>Neutral</td>\n      <td>MATIC</td>\n      <td>2024-06-06</td>\n      <td>0.724675</td>\n      <td>0.739765</td>\n      <td>0.714774</td>\n      <td>0.725595</td>\n      <td>0.725595</td>\n      <td>315340853</td>\n      <td>0.717255</td>\n      <td>0.712878</td>\n      <td>0.717255</td>\n      <td>0.018578</td>\n      <td>0.754410</td>\n      <td>0.680100</td>\n      <td>52.903474</td>\n      <td>-0.001018</td>\n      <td>-0.002864</td>\n      <td>1.846435e-03</td>\n      <td>Bullish</td>\n      <td>True</td>\n      <td>Neutral</td>\n      <td>Neutral</td>\n      <td>Bullish</td>\n      <td>Neutral</td>\n      <td>Bullish with Volume Increase</td>\n      <td>Neutral</td>\n      <td>Neutral</td>\n      <td>Bullish Crossover with Volume Increase</td>\n      <td>Neutral</td>\n    </tr>\n    <tr>\n      <th>22</th>\n      <td>2024-06-06</td>\n      <td>0.071064</td>\n      <td>0.077145</td>\n      <td>0.071064</td>\n      <td>0.075522</td>\n      <td>0.075522</td>\n      <td>2134</td>\n      <td>6.273219</td>\n      <td>-0.140384</td>\n      <td>False</td>\n      <td>Neutral</td>\n      <td>AI</td>\n      <td>2024-06-06</td>\n      <td>0.071064</td>\n      <td>0.077145</td>\n      <td>0.071064</td>\n      <td>0.075522</td>\n      <td>0.075522</td>\n      <td>2134</td>\n      <td>0.065269</td>\n      <td>0.064395</td>\n      <td>0.065269</td>\n      <td>0.004353</td>\n      <td>0.073975</td>\n      <td>0.056562</td>\n      <td>64.662035</td>\n      <td>0.004337</td>\n      <td>0.004191</td>\n      <td>1.461879e-04</td>\n      <td>Bullish</td>\n      <td>False</td>\n      <td>Overbought</td>\n      <td>Neutral</td>\n      <td>Bullish</td>\n      <td>Neutral</td>\n      <td>Neutral</td>\n      <td>Neutral</td>\n      <td>Neutral</td>\n      <td>Neutral</td>\n      <td>Neutral</td>\n    </tr>\n    <tr>\n      <th>23</th>\n      <td>2024-06-06</td>\n      <td>85.413132</td>\n      <td>85.734612</td>\n      <td>84.181122</td>\n      <td>84.181122</td>\n      <td>84.181122</td>\n      <td>303021855</td>\n      <td>-1.442413</td>\n      <td>1.368085</td>\n      <td>False</td>\n      <td>Neutral</td>\n      <td>LTC</td>\n      <td>2024-06-06</td>\n      <td>85.413132</td>\n      <td>85.734612</td>\n      <td>84.181122</td>\n      <td>84.181122</td>\n      <td>84.181122</td>\n      <td>303021855</td>\n      <td>84.509100</td>\n      <td>83.926140</td>\n      <td>84.509100</td>\n      <td>1.645736</td>\n      <td>87.800573</td>\n      <td>81.217628</td>\n      <td>50.824078</td>\n      <td>0.068510</td>\n      <td>0.062937</td>\n      <td>5.573040e-03</td>\n      <td>Bearish</td>\n      <td>True</td>\n      <td>Neutral</td>\n      <td>Neutral</td>\n      <td>Bullish</td>\n      <td>Potential Reversal Down</td>\n      <td>Neutral</td>\n      <td>Neutral</td>\n      <td>Neutral</td>\n      <td>Bullish Crossover with Volume Increase</td>\n      <td>Neutral</td>\n    </tr>\n    <tr>\n      <th>24</th>\n      <td>2024-06-06</td>\n      <td>698.889404</td>\n      <td>720.672607</td>\n      <td>692.994751</td>\n      <td>710.464050</td>\n      <td>710.464050</td>\n      <td>2997888288</td>\n      <td>1.656148</td>\n      <td>-14.376174</td>\n      <td>False</td>\n      <td>Neutral</td>\n      <td>BNB</td>\n      <td>2024-06-06</td>\n      <td>698.889404</td>\n      <td>720.672607</td>\n      <td>692.994751</td>\n      <td>710.464050</td>\n      <td>710.464050</td>\n      <td>2997888288</td>\n      <td>615.215906</td>\n      <td>624.996999</td>\n      <td>615.215906</td>\n      <td>37.824549</td>\n      <td>690.865004</td>\n      <td>539.566807</td>\n      <td>80.414319</td>\n      <td>23.137625</td>\n      <td>11.421901</td>\n      <td>1.171572e+01</td>\n      <td>Bullish</td>\n      <td>False</td>\n      <td>Overbought</td>\n      <td>Overbought</td>\n      <td>Bullish</td>\n      <td>Neutral</td>\n      <td>Neutral</td>\n      <td>Neutral</td>\n      <td>Neutral</td>\n      <td>Neutral</td>\n      <td>Neutral</td>\n    </tr>\n    <tr>\n      <th>25</th>\n      <td>2024-06-06</td>\n      <td>29.799065</td>\n      <td>29.804882</td>\n      <td>28.818125</td>\n      <td>29.062695</td>\n      <td>29.062695</td>\n      <td>156748853</td>\n      <td>-2.471118</td>\n      <td>-16.596698</td>\n      <td>False</td>\n      <td>Neutral</td>\n      <td>ETC</td>\n      <td>2024-06-06</td>\n      <td>29.799065</td>\n      <td>29.804882</td>\n      <td>28.818125</td>\n      <td>29.062695</td>\n      <td>29.062695</td>\n      <td>156748853</td>\n      <td>30.345203</td>\n      <td>29.622018</td>\n      <td>30.345203</td>\n      <td>1.414971</td>\n      <td>33.175145</td>\n      <td>27.515261</td>\n      <td>47.694402</td>\n      <td>0.203847</td>\n      <td>0.470010</td>\n      <td>-2.661631e-01</td>\n      <td>Bearish</td>\n      <td>False</td>\n      <td>Neutral</td>\n      <td>Neutral</td>\n      <td>Bearish</td>\n      <td>Neutral</td>\n      <td>Neutral</td>\n      <td>Neutral</td>\n      <td>Neutral</td>\n      <td>Neutral</td>\n      <td>Neutral</td>\n    </tr>\n    <tr>\n      <th>26</th>\n      <td>2024-06-06</td>\n      <td>0.001057</td>\n      <td>0.001068</td>\n      <td>0.001004</td>\n      <td>0.001004</td>\n      <td>0.001004</td>\n      <td>2917</td>\n      <td>-5.014191</td>\n      <td>-45.220657</td>\n      <td>False</td>\n      <td>Neutral</td>\n      <td>JUP</td>\n      <td>2024-06-06</td>\n      <td>0.001057</td>\n      <td>0.001068</td>\n      <td>0.001004</td>\n      <td>0.001004</td>\n      <td>0.001004</td>\n      <td>2917</td>\n      <td>0.001017</td>\n      <td>0.001020</td>\n      <td>0.001017</td>\n      <td>0.000108</td>\n      <td>0.001232</td>\n      <td>0.000802</td>\n      <td>46.507980</td>\n      <td>-0.000061</td>\n      <td>-0.000072</td>\n      <td>1.108749e-05</td>\n      <td>Bearish</td>\n      <td>False</td>\n      <td>Neutral</td>\n      <td>Neutral</td>\n      <td>Bullish</td>\n      <td>Potential Reversal Down</td>\n      <td>Neutral</td>\n      <td>Neutral</td>\n      <td>Neutral</td>\n      <td>Neutral</td>\n      <td>Neutral</td>\n    </tr>\n    <tr>\n      <th>27</th>\n      <td>2024-06-06</td>\n      <td>163.156189</td>\n      <td>166.311264</td>\n      <td>162.537552</td>\n      <td>165.257813</td>\n      <td>165.257813</td>\n      <td>59505497</td>\n      <td>1.288475</td>\n      <td>-8.037996</td>\n      <td>False</td>\n      <td>Neutral</td>\n      <td>XMR</td>\n      <td>2024-06-06</td>\n      <td>163.156189</td>\n      <td>166.311264</td>\n      <td>162.537552</td>\n      <td>165.257813</td>\n      <td>165.257813</td>\n      <td>59505497</td>\n      <td>145.296105</td>\n      <td>147.656022</td>\n      <td>145.296105</td>\n      <td>9.406878</td>\n      <td>164.109860</td>\n      <td>126.482350</td>\n      <td>84.049611</td>\n      <td>7.544014</td>\n      <td>5.512350</td>\n      <td>2.031664e+00</td>\n      <td>Bullish</td>\n      <td>False</td>\n      <td>Overbought</td>\n      <td>Overbought</td>\n      <td>Bullish</td>\n      <td>Neutral</td>\n      <td>Neutral</td>\n      <td>Neutral</td>\n      <td>Neutral</td>\n      <td>Neutral</td>\n      <td>Neutral</td>\n    </tr>\n    <tr>\n      <th>28</th>\n      <td>2024-06-06</td>\n      <td>6.076118</td>\n      <td>6.087913</td>\n      <td>5.852156</td>\n      <td>5.958722</td>\n      <td>5.958722</td>\n      <td>160189832</td>\n      <td>-1.932089</td>\n      <td>-12.662225</td>\n      <td>False</td>\n      <td>Neutral</td>\n      <td>FIL</td>\n      <td>2024-06-06</td>\n      <td>6.076118</td>\n      <td>6.087913</td>\n      <td>5.852156</td>\n      <td>5.958722</td>\n      <td>5.958722</td>\n      <td>160189832</td>\n      <td>5.906988</td>\n      <td>5.900188</td>\n      <td>5.906988</td>\n      <td>0.169828</td>\n      <td>6.246645</td>\n      <td>5.567331</td>\n      <td>50.652714</td>\n      <td>-0.026714</td>\n      <td>-0.060197</td>\n      <td>3.348302e-02</td>\n      <td>Bullish</td>\n      <td>False</td>\n      <td>Neutral</td>\n      <td>Neutral</td>\n      <td>Bullish</td>\n      <td>Neutral</td>\n      <td>Neutral</td>\n      <td>Neutral</td>\n      <td>Neutral</td>\n      <td>Neutral</td>\n      <td>Neutral</td>\n    </tr>\n    <tr>\n      <th>29</th>\n      <td>2024-06-06</td>\n      <td>2.082284</td>\n      <td>2.204088</td>\n      <td>2.078436</td>\n      <td>2.172313</td>\n      <td>2.172313</td>\n      <td>73409361</td>\n      <td>4.323570</td>\n      <td>58.448520</td>\n      <td>False</td>\n      <td>Neutral</td>\n      <td>DYDX</td>\n      <td>2024-06-06</td>\n      <td>2.082284</td>\n      <td>2.204088</td>\n      <td>2.078436</td>\n      <td>2.172313</td>\n      <td>2.172313</td>\n      <td>73409361</td>\n      <td>2.044340</td>\n      <td>2.059730</td>\n      <td>2.044340</td>\n      <td>0.061585</td>\n      <td>2.167510</td>\n      <td>1.921170</td>\n      <td>56.579034</td>\n      <td>-0.015289</td>\n      <td>-0.037533</td>\n      <td>2.224386e-02</td>\n      <td>Bullish</td>\n      <td>True</td>\n      <td>Overbought</td>\n      <td>Neutral</td>\n      <td>Bullish</td>\n      <td>Neutral</td>\n      <td>Bullish with Volume Increase</td>\n      <td>Overbought with Volume Increase</td>\n      <td>Neutral</td>\n      <td>Bullish Crossover with Volume Increase</td>\n      <td>Neutral</td>\n    </tr>\n    <tr>\n      <th>30</th>\n      <td>2024-06-06</td>\n      <td>8.692935</td>\n      <td>8.793395</td>\n      <td>8.573470</td>\n      <td>8.617699</td>\n      <td>8.617699</td>\n      <td>111718832</td>\n      <td>-0.861402</td>\n      <td>10.469255</td>\n      <td>False</td>\n      <td>Neutral</td>\n      <td>ATOM</td>\n      <td>2024-06-06</td>\n      <td>8.692935</td>\n      <td>8.793395</td>\n      <td>8.573470</td>\n      <td>8.617699</td>\n      <td>8.617699</td>\n      <td>111718832</td>\n      <td>8.522686</td>\n      <td>8.534927</td>\n      <td>8.522686</td>\n      <td>0.188228</td>\n      <td>8.899141</td>\n      <td>8.146230</td>\n      <td>50.971031</td>\n      <td>-0.055106</td>\n      <td>-0.088041</td>\n      <td>3.293473e-02</td>\n      <td>Bullish</td>\n      <td>False</td>\n      <td>Neutral</td>\n      <td>Neutral</td>\n      <td>Bullish</td>\n      <td>Neutral</td>\n      <td>Bullish with Volume Increase</td>\n      <td>Neutral</td>\n      <td>Neutral</td>\n      <td>Bullish Crossover with Volume Increase</td>\n      <td>Neutral</td>\n    </tr>\n    <tr>\n      <th>31</th>\n      <td>2024-06-06</td>\n      <td>0.807216</td>\n      <td>0.807384</td>\n      <td>0.776493</td>\n      <td>0.785384</td>\n      <td>0.785384</td>\n      <td>109849492</td>\n      <td>-2.704363</td>\n      <td>-8.906416</td>\n      <td>False</td>\n      <td>Neutral</td>\n      <td>EOS</td>\n      <td>2024-06-06</td>\n      <td>0.807216</td>\n      <td>0.807384</td>\n      <td>0.776493</td>\n      <td>0.785384</td>\n      <td>0.785384</td>\n      <td>109849492</td>\n      <td>0.819867</td>\n      <td>0.811761</td>\n      <td>0.819867</td>\n      <td>0.022931</td>\n      <td>0.865729</td>\n      <td>0.774006</td>\n      <td>42.567200</td>\n      <td>-0.006256</td>\n      <td>-0.003726</td>\n      <td>-2.530019e-03</td>\n      <td>Bearish</td>\n      <td>False</td>\n      <td>Neutral</td>\n      <td>Neutral</td>\n      <td>Bearish</td>\n      <td>Neutral</td>\n      <td>Neutral</td>\n      <td>Neutral</td>\n      <td>Neutral</td>\n      <td>Neutral</td>\n      <td>Neutral</td>\n    </tr>\n    <tr>\n      <th>32</th>\n      <td>2024-06-06</td>\n      <td>104.881287</td>\n      <td>108.302711</td>\n      <td>103.397636</td>\n      <td>105.353508</td>\n      <td>105.353508</td>\n      <td>34158584</td>\n      <td>0.450243</td>\n      <td>-19.119855</td>\n      <td>False</td>\n      <td>Neutral</td>\n      <td>TRB</td>\n      <td>2024-06-06</td>\n      <td>104.881287</td>\n      <td>108.302711</td>\n      <td>103.397636</td>\n      <td>105.353508</td>\n      <td>105.353508</td>\n      <td>34158584</td>\n      <td>109.751491</td>\n      <td>106.795632</td>\n      <td>109.751491</td>\n      <td>5.067908</td>\n      <td>119.887308</td>\n      <td>99.615674</td>\n      <td>49.815714</td>\n      <td>0.909548</td>\n      <td>2.797881</td>\n      <td>-1.888333e+00</td>\n      <td>Bearish</td>\n      <td>False</td>\n      <td>Neutral</td>\n      <td>Neutral</td>\n      <td>Bearish</td>\n      <td>Neutral</td>\n      <td>Neutral</td>\n      <td>Neutral</td>\n      <td>Neutral</td>\n      <td>Neutral</td>\n      <td>Neutral</td>\n    </tr>\n    <tr>\n      <th>33</th>\n      <td>2024-06-06</td>\n      <td>3.711645</td>\n      <td>3.735916</td>\n      <td>3.550245</td>\n      <td>3.591418</td>\n      <td>3.591418</td>\n      <td>39635978</td>\n      <td>-3.239184</td>\n      <td>-39.512978</td>\n      <td>False</td>\n      <td>Neutral</td>\n      <td>JTO</td>\n      <td>2024-06-06</td>\n      <td>3.711645</td>\n      <td>3.735916</td>\n      <td>3.550245</td>\n      <td>3.591418</td>\n      <td>3.591418</td>\n      <td>39635978</td>\n      <td>3.796555</td>\n      <td>3.712816</td>\n      <td>3.796555</td>\n      <td>0.321419</td>\n      <td>4.439394</td>\n      <td>3.153717</td>\n      <td>45.557778</td>\n      <td>-0.071219</td>\n      <td>-0.045787</td>\n      <td>-2.543280e-02</td>\n      <td>Bearish</td>\n      <td>False</td>\n      <td>Neutral</td>\n      <td>Neutral</td>\n      <td>Bearish</td>\n      <td>Neutral</td>\n      <td>Neutral</td>\n      <td>Neutral</td>\n      <td>Neutral</td>\n      <td>Neutral</td>\n      <td>Neutral</td>\n    </tr>\n    <tr>\n      <th>34</th>\n      <td>2024-06-06</td>\n      <td>0.046879</td>\n      <td>0.046880</td>\n      <td>0.044643</td>\n      <td>0.045368</td>\n      <td>0.045368</td>\n      <td>142493918</td>\n      <td>-3.223192</td>\n      <td>-34.407997</td>\n      <td>False</td>\n      <td>Neutral</td>\n      <td>GALA</td>\n      <td>2024-06-06</td>\n      <td>0.046879</td>\n      <td>0.046880</td>\n      <td>0.044643</td>\n      <td>0.045368</td>\n      <td>0.045368</td>\n      <td>142493918</td>\n      <td>0.044459</td>\n      <td>0.044655</td>\n      <td>0.044459</td>\n      <td>0.001339</td>\n      <td>0.047137</td>\n      <td>0.041782</td>\n      <td>52.113399</td>\n      <td>0.000209</td>\n      <td>-0.000142</td>\n      <td>3.509327e-04</td>\n      <td>Bullish</td>\n      <td>False</td>\n      <td>Neutral</td>\n      <td>Neutral</td>\n      <td>Bullish</td>\n      <td>Neutral</td>\n      <td>Neutral</td>\n      <td>Neutral</td>\n      <td>Neutral</td>\n      <td>Neutral</td>\n      <td>Neutral</td>\n    </tr>\n    <tr>\n      <th>35</th>\n      <td>2024-06-06</td>\n      <td>0.412164</td>\n      <td>0.418288</td>\n      <td>0.397636</td>\n      <td>0.405165</td>\n      <td>0.405165</td>\n      <td>38764262</td>\n      <td>-1.698110</td>\n      <td>-25.795454</td>\n      <td>False</td>\n      <td>Neutral</td>\n      <td>BLUR</td>\n      <td>2024-06-06</td>\n      <td>0.412164</td>\n      <td>0.418288</td>\n      <td>0.397636</td>\n      <td>0.405165</td>\n      <td>0.405165</td>\n      <td>38764262</td>\n      <td>0.413213</td>\n      <td>0.409230</td>\n      <td>0.413213</td>\n      <td>0.025256</td>\n      <td>0.463725</td>\n      <td>0.362700</td>\n      <td>48.704419</td>\n      <td>0.001250</td>\n      <td>0.002887</td>\n      <td>-1.636304e-03</td>\n      <td>Bearish</td>\n      <td>False</td>\n      <td>Neutral</td>\n      <td>Neutral</td>\n      <td>Bearish</td>\n      <td>Potential Reversal Down</td>\n      <td>Neutral</td>\n      <td>Neutral</td>\n      <td>Neutral</td>\n      <td>Neutral</td>\n      <td>Neutral</td>\n    </tr>\n  </tbody>\n</table>\n</div>"
                    },
                    "metadata": {}
                }
            ],
            "execution_count": 2
        }
    ]
}