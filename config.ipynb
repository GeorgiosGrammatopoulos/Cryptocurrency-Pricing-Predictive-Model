{
    "metadata": {
        "kernelspec": {
            "name": "powershell",
            "display_name": "PowerShell",
            "language": "powershell"
        },
        "language_info": {
            "name": "powershell",
            "codemirror_mode": "shell",
            "mimetype": "text/x-sh",
            "file_extension": ".ps1"
        }
    },
    "nbformat_minor": 2,
    "nbformat": 4,
    "cells": [
        {
            "cell_type": "code",
            "source": [
                "###PowerShell - Create repository for dataset renewal (under progress)\r\n",
                "\r\n",
                "$crypto = \"OP\" \r\n",
                "#Read-Host -Prompt \"Insert your crypto of choice\"\r\n",
                "\r\n",
                "Write-Host \"Creating directory for: $crypto\"\r\n",
                "\r\n",
                "New-Item -Path \"C:\\Users\\georg\\Downloads\\$crypto\" -ItemType Directory\r\n",
                "\r\n",
                "Invoke-WebRequest -Uri \"https://query1.finance.yahoo.com/v7/finance/download/OP-USD?period1=1604448000&period2=1706486400&interval=1d&events=history&includeAdjustedClose=true\" -OutFile \"C:\\Users\\PUBLIC.LAPTOP-7NBR16RS\\Desktop\\finances\\$crypto\"\r\n",
                "\r\n",
                "\r\n",
                "#pending to create a download prompt of datasets for crypto. for the moment, just OP"
            ],
            "metadata": {
                "azdata_cell_guid": "def4e2f3-f9b0-4732-be6b-2963687078dd",
                "language": "powershell",
                "tags": []
            },
            "outputs": [],
            "execution_count": null
        },
        {
            "cell_type": "code",
            "source": [
                "###PowerShell - Python package installation\r\n",
                "\r\n",
                "cd C:\\Users\\georg\\Downloads -m \r\n",
                "pip install --upgrade pip\r\n",
                "pip install pyodbc\r\n",
                "pip install pandas\r\n",
                "pip install pandas pandas_ta\r\n",
                "pip install yfinance\r\n",
                "pip install scikit-learn\r\n",
                "pip install matplotlib\r\n",
                "pip install schedule\r\n",
                "pip install ccxt"
            ],
            "metadata": {
                "azdata_cell_guid": "f37fe2cc-cee9-43d6-babd-5a0464b54e1d",
                "language": "powershell",
                "tags": []
            },
            "outputs": [
                {
                    "output_type": "stream",
                    "name": "stdout",
                    "text": "Set-Location : A parameter cannot be found that matches parameter name 'm'.\nAt line:3 char:29\n+ cd C:\\Users\\georg\\Downloads -m\n+                             ~~\n    + CategoryInfo          : InvalidArgument: (:) [Set-Location], ParameterBindingException\n    + FullyQualifiedErrorId : NamedParameterNotFound,Microsoft.PowerShell.Commands.SetLocationCommand\n \n"
                },
                {
                    "output_type": "stream",
                    "name": "stdout",
                    "text": "Requirement already satisfied: pip in c:\\users\\georg\\azuredatastudio-python\\lib\\site-packages (24.0)\n"
                },
                {
                    "output_type": "stream",
                    "name": "stdout",
                    "text": "Requirement already satisfied: pyodbc in c:\\users\\georg\\azuredatastudio-python\\lib\\site-packages (5.1.0)\n"
                },
                {
                    "output_type": "stream",
                    "name": "stdout",
                    "text": "Requirement already satisfied: pandas in c:\\users\\georg\\azuredatastudio-python\\lib\\site-packages (2.0.3)\nRequirement already satisfied: python-dateutil>=2.8.2 in c:\\users\\georg\\appdata\\roaming\\python\\python38\\site-packages (from pandas) (2.9.0.post0)\nRequirement already satisfied: pytz>=2020.1 in c:\\users\\georg\\azuredatastudio-python\\lib\\site-packages (from pandas) (2024.1)\nRequirement already satisfied: tzdata>=2022.1 in c:\\users\\georg\\azuredatastudio-python\\lib\\site-packages (from pandas) (2024.1)\nRequirement already satisfied: numpy>=1.20.3 in c:\\users\\georg\\azuredatastudio-python\\lib\\site-packages (from pandas) (1.24.4)\nRequirement already satisfied: six>=1.5 in c:\\users\\georg\\appdata\\roaming\\python\\python38\\site-packages (from python-dateutil>=2.8.2->pandas) (1.16.0)\n"
                },
                {
                    "output_type": "stream",
                    "name": "stdout",
                    "text": "Requirement already satisfied: pandas in c:\\users\\georg\\azuredatastudio-python\\lib\\site-packages (2.0.3)\nRequirement already satisfied: pandas_ta in c:\\users\\georg\\azuredatastudio-python\\lib\\site-packages (0.3.14b0)\nRequirement already satisfied: python-dateutil>=2.8.2 in c:\\users\\georg\\appdata\\roaming\\python\\python38\\site-packages (from pandas) (2.9.0.post0)\nRequirement already satisfied: pytz>=2020.1 in c:\\users\\georg\\azuredatastudio-python\\lib\\site-packages (from pandas) (2024.1)\nRequirement already satisfied: tzdata>=2022.1 in c:\\users\\georg\\azuredatastudio-python\\lib\\site-packages (from pandas) (2024.1)\nRequirement already satisfied: numpy>=1.20.3 in c:\\users\\georg\\azuredatastudio-python\\lib\\site-packages (from pandas) (1.24.4)\nRequirement already satisfied: six>=1.5 in c:\\users\\georg\\appdata\\roaming\\python\\python38\\site-packages (from python-dateutil>=2.8.2->pandas) (1.16.0)\n"
                },
                {
                    "output_type": "stream",
                    "name": "stdout",
                    "text": "Requirement already satisfied: yfinance in c:\\users\\georg\\azuredatastudio-python\\lib\\site-packages (0.2.40)\nRequirement already satisfied: pandas>=1.3.0 in c:\\users\\georg\\azuredatastudio-python\\lib\\site-packages (from yfinance) (2.0.3)\nRequirement already satisfied: numpy>=1.16.5 in c:\\users\\georg\\azuredatastudio-python\\lib\\site-packages (from yfinance) (1.24.4)\nRequirement already satisfied: requests>=2.31 in c:\\users\\georg\\azuredatastudio-python\\lib\\site-packages (from yfinance) (2.32.2)\nRequirement already satisfied: multitasking>=0.0.7 in c:\\users\\georg\\azuredatastudio-python\\lib\\site-packages (from yfinance) (0.0.11)\nRequirement already satisfied: lxml>=4.9.1 in c:\\users\\georg\\azuredatastudio-python\\lib\\site-packages (from yfinance) (5.2.2)\nRequirement already satisfied: platformdirs>=2.0.0 in c:\\users\\georg\\appdata\\roaming\\python\\python38\\site-packages (from yfinance) (4.2.2)\nRequirement already satisfied: pytz>=2022.5 in c:\\users\\georg\\azuredatastudio-python\\lib\\site-packages (from yfinance) (2024.1)\nRequirement already satisfied: frozendict>=2.3.4 in c:\\users\\georg\\azuredatastudio-python\\lib\\site-packages (from yfinance) (2.4.4)\nRequirement already satisfied: peewee>=3.16.2 in c:\\users\\georg\\azuredatastudio-python\\lib\\site-packages (from yfinance) (3.17.5)\nRequirement already satisfied: beautifulsoup4>=4.11.1 in c:\\users\\georg\\appdata\\roaming\\python\\python38\\site-packages (from yfinance) (4.12.3)\nRequirement already satisfied: html5lib>=1.1 in c:\\users\\georg\\azuredatastudio-python\\lib\\site-packages (from yfinance) (1.1)\nRequirement already satisfied: soupsieve>1.2 in c:\\users\\georg\\appdata\\roaming\\python\\python38\\site-packages (from beautifulsoup4>=4.11.1->yfinance) (2.5)\nRequirement already satisfied: six>=1.9 in c:\\users\\georg\\appdata\\roaming\\python\\python38\\site-packages (from html5lib>=1.1->yfinance) (1.16.0)\nRequirement already satisfied: webencodings in c:\\users\\georg\\appdata\\roaming\\python\\python38\\site-packages (from html5lib>=1.1->yfinance) (0.5.1)\nRequirement already satisfied: python-dateutil>=2.8.2 in c:\\users\\georg\\appdata\\roaming\\python\\python38\\site-packages (from pandas>=1.3.0->yfinance) (2.9.0.post0)\nRequirement already satisfied: tzdata>=2022.1 in c:\\users\\georg\\azuredatastudio-python\\lib\\site-packages (from pandas>=1.3.0->yfinance) (2024.1)\nRequirement already satisfied: charset-normalizer<4,>=2 in c:\\users\\georg\\azuredatastudio-python\\lib\\site-packages (from requests>=2.31->yfinance) (3.3.2)\n"
                },
                {
                    "output_type": "stream",
                    "name": "stdout",
                    "text": "Requirement already satisfied: idna<4,>=2.5 in c:\\users\\georg\\appdata\\roaming\\python\\python38\\site-packages (from requests>=2.31->yfinance) (3.7)\nRequirement already satisfied: urllib3<3,>=1.21.1 in c:\\users\\georg\\azuredatastudio-python\\lib\\site-packages (from requests>=2.31->yfinance) (2.2.1)\nRequirement already satisfied: certifi>=2017.4.17 in c:\\users\\georg\\azuredatastudio-python\\lib\\site-packages (from requests>=2.31->yfinance) (2024.2.2)\n"
                },
                {
                    "output_type": "stream",
                    "name": "stdout",
                    "text": "Requirement already satisfied: scikit-learn in c:\\users\\georg\\azuredatastudio-python\\lib\\site-packages (1.3.2)\nRequirement already satisfied: numpy<2.0,>=1.17.3 in c:\\users\\georg\\azuredatastudio-python\\lib\\site-packages (from scikit-learn) (1.24.4)\nRequirement already satisfied: scipy>=1.5.0 in c:\\users\\georg\\azuredatastudio-python\\lib\\site-packages (from scikit-learn) (1.10.1)\nRequirement already satisfied: joblib>=1.1.1 in c:\\users\\georg\\azuredatastudio-python\\lib\\site-packages (from scikit-learn) (1.4.2)\nRequirement already satisfied: threadpoolctl>=2.0.0 in c:\\users\\georg\\azuredatastudio-python\\lib\\site-packages (from scikit-learn) (3.5.0)\n"
                },
                {
                    "output_type": "stream",
                    "name": "stdout",
                    "text": "Requirement already satisfied: matplotlib in c:\\users\\georg\\azuredatastudio-python\\lib\\site-packages (3.7.5)\nRequirement already satisfied: contourpy>=1.0.1 in c:\\users\\georg\\azuredatastudio-python\\lib\\site-packages (from matplotlib) (1.1.1)\nRequirement already satisfied: cycler>=0.10 in c:\\users\\georg\\azuredatastudio-python\\lib\\site-packages (from matplotlib) (0.12.1)\nRequirement already satisfied: fonttools>=4.22.0 in c:\\users\\georg\\azuredatastudio-python\\lib\\site-packages (from matplotlib) (4.53.0)\nRequirement already satisfied: kiwisolver>=1.0.1 in c:\\users\\georg\\azuredatastudio-python\\lib\\site-packages (from matplotlib) (1.4.5)\nRequirement already satisfied: numpy<2,>=1.20 in c:\\users\\georg\\azuredatastudio-python\\lib\\site-packages (from matplotlib) (1.24.4)\nRequirement already satisfied: packaging>=20.0 in c:\\users\\georg\\appdata\\roaming\\python\\python38\\site-packages (from matplotlib) (24.0)\nRequirement already satisfied: pillow>=6.2.0 in c:\\users\\georg\\azuredatastudio-python\\lib\\site-packages (from matplotlib) (10.3.0)\nRequirement already satisfied: pyparsing>=2.3.1 in c:\\users\\georg\\azuredatastudio-python\\lib\\site-packages (from matplotlib) (3.1.2)\nRequirement already satisfied: python-dateutil>=2.7 in c:\\users\\georg\\appdata\\roaming\\python\\python38\\site-packages (from matplotlib) (2.9.0.post0)\nRequirement already satisfied: importlib-resources>=3.2.0 in c:\\users\\georg\\appdata\\roaming\\python\\python38\\site-packages (from matplotlib) (6.4.0)\n"
                },
                {
                    "output_type": "stream",
                    "name": "stdout",
                    "text": "Requirement already satisfied: zipp>=3.1.0 in c:\\users\\georg\\appdata\\roaming\\python\\python38\\site-packages (from importlib-resources>=3.2.0->matplotlib) (3.18.2)\nRequirement already satisfied: six>=1.5 in c:\\users\\georg\\appdata\\roaming\\python\\python38\\site-packages (from python-dateutil>=2.7->matplotlib) (1.16.0)\n"
                },
                {
                    "output_type": "stream",
                    "name": "stdout",
                    "text": "Requirement already satisfied: schedule in c:\\users\\georg\\azuredatastudio-python\\lib\\site-packages (1.2.2)\n"
                },
                {
                    "output_type": "stream",
                    "name": "stdout",
                    "text": "Collecting ccxt\n  Using cached ccxt-4.3.43-py2.py3-none-any.whl.metadata (112 kB)\n"
                },
                {
                    "output_type": "stream",
                    "name": "stdout",
                    "text": "Collecting setuptools>=60.9.0 (from ccxt)\n  Using cached setuptools-70.0.0-py3-none-any.whl.metadata (5.9 kB)\nRequirement already satisfied: certifi>=2018.1.18 in c:\\users\\georg\\azuredatastudio-python\\lib\\site-packages (from ccxt) (2024.2.2)\nRequirement already satisfied: requests>=2.18.4 in c:\\users\\georg\\azuredatastudio-python\\lib\\site-packages (from ccxt) (2.32.2)\n"
                },
                {
                    "output_type": "stream",
                    "name": "stdout",
                    "text": "Collecting cryptography>=2.6.1 (from ccxt)\n"
                },
                {
                    "output_type": "stream",
                    "name": "stdout",
                    "text": "  Downloading cryptography-42.0.8-cp37-abi3-win_amd64.whl.metadata (5.4 kB)\nRequirement already satisfied: typing-extensions>=4.4.0 in c:\\users\\georg\\appdata\\roaming\\python\\python38\\site-packages (from ccxt) (4.12.0)\n"
                },
                {
                    "output_type": "stream",
                    "name": "stdout",
                    "text": "Collecting aiohttp>=3.8 (from ccxt)\n  Downloading aiohttp-3.9.5-cp38-cp38-win_amd64.whl.metadata (7.7 kB)\nCollecting aiodns>=1.1.1 (from ccxt)\n  Using cached aiodns-3.2.0-py3-none-any.whl.metadata (4.0 kB)\n"
                },
                {
                    "output_type": "stream",
                    "name": "stdout",
                    "text": "Collecting yarl>=1.7.2 (from ccxt)\n  Downloading yarl-1.9.4-cp38-cp38-win_amd64.whl.metadata (32 kB)\n"
                },
                {
                    "output_type": "stream",
                    "name": "stdout",
                    "text": "Collecting pycares>=4.0.0 (from aiodns>=1.1.1->ccxt)\n  Downloading pycares-4.4.0-cp38-cp38-win_amd64.whl.metadata (4.5 kB)\nCollecting aiosignal>=1.1.2 (from aiohttp>=3.8->ccxt)\n  Using cached aiosignal-1.3.1-py3-none-any.whl.metadata (4.0 kB)\nRequirement already satisfied: attrs>=17.3.0 in c:\\users\\georg\\appdata\\roaming\\python\\python38\\site-packages (from aiohttp>=3.8->ccxt) (23.2.0)\n"
                },
                {
                    "output_type": "stream",
                    "name": "stdout",
                    "text": "Collecting frozenlist>=1.1.1 (from aiohttp>=3.8->ccxt)\n  Downloading frozenlist-1.4.1-cp38-cp38-win_amd64.whl.metadata (12 kB)\n"
                },
                {
                    "output_type": "stream",
                    "name": "stdout",
                    "text": "Collecting multidict<7.0,>=4.5 (from aiohttp>=3.8->ccxt)\n  Downloading multidict-6.0.5-cp38-cp38-win_amd64.whl.metadata (4.3 kB)\n"
                },
                {
                    "output_type": "stream",
                    "name": "stdout",
                    "text": "Collecting async-timeout<5.0,>=4.0 (from aiohttp>=3.8->ccxt)\n  Downloading async_timeout-4.0.3-py3-none-any.whl.metadata (4.2 kB)\nRequirement already satisfied: cffi>=1.12 in c:\\users\\georg\\appdata\\roaming\\python\\python38\\site-packages (from cryptography>=2.6.1->ccxt) (1.16.0)\nRequirement already satisfied: charset-normalizer<4,>=2 in c:\\users\\georg\\azuredatastudio-python\\lib\\site-packages (from requests>=2.18.4->ccxt) (3.3.2)\nRequirement already satisfied: idna<4,>=2.5 in c:\\users\\georg\\appdata\\roaming\\python\\python38\\site-packages (from requests>=2.18.4->ccxt) (3.7)\nRequirement already satisfied: urllib3<3,>=1.21.1 in c:\\users\\georg\\azuredatastudio-python\\lib\\site-packages (from requests>=2.18.4->ccxt) (2.2.1)\nRequirement already satisfied: pycparser in c:\\users\\georg\\appdata\\roaming\\python\\python38\\site-packages (from cffi>=1.12->cryptography>=2.6.1->ccxt) (2.22)\n"
                },
                {
                    "output_type": "stream",
                    "name": "stdout",
                    "text": "Using cached ccxt-4.3.43-py2.py3-none-any.whl (4.7 MB)\nUsing cached aiodns-3.2.0-py3-none-any.whl (5.7 kB)\nDownloading aiohttp-3.9.5-cp38-cp38-win_amd64.whl (373 kB)\n"
                },
                {
                    "output_type": "stream",
                    "name": "stdout",
                    "text": "   ---------------------------------------- 373.1/373.1 kB 5.8 MB/s eta 0:00:00\nDownloading cryptography-42.0.8-cp37-abi3-win_amd64.whl (2.9 MB)\n"
                },
                {
                    "output_type": "stream",
                    "name": "stdout",
                    "text": "   ---------------------------------------- 2.9/2.9 MB 4.8 MB/s eta 0:00:00\nUsing cached setuptools-70.0.0-py3-none-any.whl (863 kB)\nDownloading yarl-1.9.4-cp38-cp38-win_amd64.whl (77 kB)\n"
                },
                {
                    "output_type": "stream",
                    "name": "stdout",
                    "text": "   ---------------------------------------- 77.1/77.1 kB 4.2 MB/s eta 0:00:00\nUsing cached aiosignal-1.3.1-py3-none-any.whl (7.6 kB)\nDownloading async_timeout-4.0.3-py3-none-any.whl (5.7 kB)\nDownloading frozenlist-1.4.1-cp38-cp38-win_amd64.whl (50 kB)\n   ---------------------------------------- 50.8/50.8 kB ? eta 0:00:00\nDownloading multidict-6.0.5-cp38-cp38-win_amd64.whl (28 kB)\nDownloading pycares-4.4.0-cp38-cp38-win_amd64.whl (76 kB)\n"
                },
                {
                    "output_type": "stream",
                    "name": "stdout",
                    "text": "   ---------------------------------------- 76.3/76.3 kB 4.1 MB/s eta 0:00:00\n"
                },
                {
                    "output_type": "stream",
                    "name": "stdout",
                    "text": "Installing collected packages: setuptools, multidict, frozenlist, async-timeout, yarl, pycares, cryptography, aiosignal, aiohttp, aiodns, ccxt\n  Attempting uninstall: setuptools\n    Found existing installation: setuptools 56.0.0\n"
                },
                {
                    "output_type": "stream",
                    "name": "stdout",
                    "text": "    Uninstalling setuptools-56.0.0:\n"
                },
                {
                    "output_type": "stream",
                    "name": "stdout",
                    "text": "      Successfully uninstalled setuptools-56.0.0\n"
                },
                {
                    "output_type": "stream",
                    "name": "stdout",
                    "text": "Successfully installed aiodns-3.2.0 aiohttp-3.9.5 aiosignal-1.3.1 async-timeout-4.0.3 ccxt-4.3.43 cryptography-42.0.8 frozenlist-1.4.1 multidict-6.0.5 pycares-4.4.0 setuptools-70.0.0 yarl-1.9.4\n"
                },
                {
                    "output_type": "stream",
                    "name": "stdout",
                    "text": ""
                }
            ],
            "execution_count": 1
        }
    ]
}