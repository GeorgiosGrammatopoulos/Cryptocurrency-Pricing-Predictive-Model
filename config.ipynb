{
    "metadata": {
        "kernelspec": {
            "name": "powershell",
            "display_name": "PowerShell",
            "language": "powershell"
        },
        "language_info": {
            "name": "powershell",
            "codemirror_mode": "shell",
            "mimetype": "text/x-sh",
            "file_extension": ".ps1"
        }
    },
    "nbformat_minor": 2,
    "nbformat": 4,
    "cells": [
        {
            "cell_type": "code",
            "source": [
                "###PowerShell - Create repository for dataset renewal (under progress)\r\n",
                "\r\n",
                "$crypto = \"OP\" \r\n",
                "#Read-Host -Prompt \"Insert your crypto of choice\"\r\n",
                "\r\n",
                "Write-Host \"Creating directory for: $crypto\"\r\n",
                "\r\n",
                "New-Item -Path \"C:\\Users\\PUBLIC.LAPTOP-7NBR16RS\\Desktop\\finances\\$crypto\" -ItemType Directory\r\n",
                "\r\n",
                "Invoke-WebRequest -Uri \"https://query1.finance.yahoo.com/v7/finance/download/OP-USD?period1=1604448000&period2=1706486400&interval=1d&events=history&includeAdjustedClose=true\" -OutFile \"C:\\Users\\PUBLIC.LAPTOP-7NBR16RS\\Desktop\\finances\\$crypto\"\r\n",
                "\r\n",
                "\r\n",
                "#pending to create a download prompt of datasets for crypto. for the moment, just OP"
            ],
            "metadata": {
                "azdata_cell_guid": "def4e2f3-f9b0-4732-be6b-2963687078dd",
                "language": "powershell",
                "tags": [
                    "hide_input"
                ]
            },
            "outputs": [
                {
                    "name": "stdout",
                    "text": "Creating directory for: OP\n",
                    "output_type": "stream"
                },
                {
                    "name": "stdout",
                    "text": "\n\n    Directory: C:\\Users\\PUBLIC.LAPTOP-7NBR16RS\\Desktop\\finances\n\n\nMode                 LastWriteTime         Length Name                                                                 \n----                 -------------         ------ ----                                                                 \nd-----          7/2/2024   6:59 ■■                OP                                                                   \n",
                    "output_type": "stream"
                },
                {
                    "name": "stdout",
                    "text": "Invoke-WebRequest : ■■■ ■■■■■⧜■■■ ■ ■■橙■■■ ■■■ ■■■■■■■■'C:\\Users\\PUBLIC.LAPTOP-7NBR16RS\\Desktop\\finances\\OP'.\nAt line:7 char:1\n+ Invoke-WebRequest -Uri \"https://query1.finance.yahoo.com/v7/finance/d ...\n+ ~~~~~~~~~~~~~~~~~~~~~~~~~~~~~~~~~~~~~~~~~~~~~~~~~~~~~~~~~~~~~~~~~~~~~\n    + CategoryInfo          : NotSpecified: (:) [Invoke-WebRequest], UnauthorizedAccessException\n    + FullyQualifiedErrorId : System.UnauthorizedAccessException,Microsoft.PowerShell.Commands.InvokeWebRequestCommand\n \n\n\n",
                    "output_type": "stream"
                }
            ],
            "execution_count": 1
        },
        {
            "cell_type": "code",
            "source": [
                "###PowerShell - Python package installation\r\n",
                "\r\n",
                "c:\\users\\public.laptop-7nbr16rs\\azuredatastudio-python\\python.exe -m pip install --upgrade pip\r\n",
                "pip install pyodbc\r\n",
                "pip install pandas\r\n",
                "pip install pandas pandas_ta\r\n",
                "pip install yfinance"
            ],
            "metadata": {
                "azdata_cell_guid": "f37fe2cc-cee9-43d6-babd-5a0464b54e1d",
                "language": "powershell",
                "tags": [
                    "hide_input"
                ]
            },
            "outputs": [
                {
                    "name": "stdout",
                    "text": "Requirement already satisfied: pip in c:\\users\\public.laptop-7nbr16rs\\azuredatastudio-python\\lib\\site-packages (24.0)\n",
                    "output_type": "stream"
                },
                {
                    "name": "stdout",
                    "text": "Requirement already satisfied: pyodbc in c:\\users\\public.laptop-7nbr16rs\\azuredatastudio-python\\lib\\site-packages (5.0.1)\n",
                    "output_type": "stream"
                },
                {
                    "name": "stdout",
                    "text": "Requirement already satisfied: pandas in c:\\users\\public.laptop-7nbr16rs\\azuredatastudio-python\\lib\\site-packages (2.0.3)\n",
                    "output_type": "stream"
                },
                {
                    "name": "stdout",
                    "text": "Requirement already satisfied: python-dateutil>=2.8.2 in c:\\users\\public.laptop-7nbr16rs\\appdata\\roaming\\python\\python38\\site-packages (from pandas) (2.8.2)\nRequirement already satisfied: pytz>=2020.1 in c:\\users\\public.laptop-7nbr16rs\\azuredatastudio-python\\lib\\site-packages (from pandas) (2023.4)\nRequirement already satisfied: tzdata>=2022.1 in c:\\users\\public.laptop-7nbr16rs\\azuredatastudio-python\\lib\\site-packages (from pandas) (2023.4)\nRequirement already satisfied: numpy>=1.20.3 in c:\\users\\public.laptop-7nbr16rs\\azuredatastudio-python\\lib\\site-packages (from pandas) (1.24.4)\nRequirement already satisfied: six>=1.5 in c:\\users\\public.laptop-7nbr16rs\\appdata\\roaming\\python\\python38\\site-packages (from python-dateutil>=2.8.2->pandas) (1.16.0)\n",
                    "output_type": "stream"
                },
                {
                    "name": "stdout",
                    "text": "Requirement already satisfied: pandas in c:\\users\\public.laptop-7nbr16rs\\azuredatastudio-python\\lib\\site-packages (2.0.3)\nRequirement already satisfied: pandas_ta in c:\\users\\public.laptop-7nbr16rs\\azuredatastudio-python\\lib\\site-packages (0.3.14b0)\n",
                    "output_type": "stream"
                },
                {
                    "name": "stdout",
                    "text": "Requirement already satisfied: python-dateutil>=2.8.2 in c:\\users\\public.laptop-7nbr16rs\\appdata\\roaming\\python\\python38\\site-packages (from pandas) (2.8.2)\nRequirement already satisfied: pytz>=2020.1 in c:\\users\\public.laptop-7nbr16rs\\azuredatastudio-python\\lib\\site-packages (from pandas) (2023.4)\nRequirement already satisfied: tzdata>=2022.1 in c:\\users\\public.laptop-7nbr16rs\\azuredatastudio-python\\lib\\site-packages (from pandas) (2023.4)\nRequirement already satisfied: numpy>=1.20.3 in c:\\users\\public.laptop-7nbr16rs\\azuredatastudio-python\\lib\\site-packages (from pandas) (1.24.4)\nRequirement already satisfied: six>=1.5 in c:\\users\\public.laptop-7nbr16rs\\appdata\\roaming\\python\\python38\\site-packages (from python-dateutil>=2.8.2->pandas) (1.16.0)\n",
                    "output_type": "stream"
                },
                {
                    "name": "stdout",
                    "text": "Requirement already satisfied: yfinance in c:\\users\\public.laptop-7nbr16rs\\azuredatastudio-python\\lib\\site-packages (0.2.36)\nRequirement already satisfied: pandas>=1.3.0 in c:\\users\\public.laptop-7nbr16rs\\azuredatastudio-python\\lib\\site-packages (from yfinance) (2.0.3)\nRequirement already satisfied: numpy>=1.16.5 in c:\\users\\public.laptop-7nbr16rs\\azuredatastudio-python\\lib\\site-packages (from yfinance) (1.24.4)\nRequirement already satisfied: requests>=2.31 in c:\\users\\public.laptop-7nbr16rs\\azuredatastudio-python\\lib\\site-packages (from yfinance) (2.31.0)\nRequirement already satisfied: multitasking>=0.0.7 in c:\\users\\public.laptop-7nbr16rs\\azuredatastudio-python\\lib\\site-packages (from yfinance) (0.0.11)\nRequirement already satisfied: lxml>=4.9.1 in c:\\users\\public.laptop-7nbr16rs\\azuredatastudio-python\\lib\\site-packages (from yfinance) (5.1.0)\nRequirement already satisfied: appdirs>=1.4.4 in c:\\users\\public.laptop-7nbr16rs\\azuredatastudio-python\\lib\\site-packages (from yfinance) (1.4.4)\nRequirement already satisfied: pytz>=2022.5 in c:\\users\\public.laptop-7nbr16rs\\azuredatastudio-python\\lib\\site-packages (from yfinance) (2023.4)\nRequirement already satisfied: frozendict>=2.3.4 in c:\\users\\public.laptop-7nbr16rs\\azuredatastudio-python\\lib\\site-packages (from yfinance) (2.4.0)\nRequirement already satisfied: peewee>=3.16.2 in c:\\users\\public.laptop-7nbr16rs\\azuredatastudio-python\\lib\\site-packages (from yfinance) (3.17.0)\nRequirement already satisfied: beautifulsoup4>=4.11.1 in c:\\users\\public.laptop-7nbr16rs\\appdata\\roaming\\python\\python38\\site-packages (from yfinance) (4.12.3)\nRequirement already satisfied: html5lib>=1.1 in c:\\users\\public.laptop-7nbr16rs\\azuredatastudio-python\\lib\\site-packages (from yfinance) (1.1)\nRequirement already satisfied: soupsieve>1.2 in c:\\users\\public.laptop-7nbr16rs\\appdata\\roaming\\python\\python38\\site-packages (from beautifulsoup4>=4.11.1->yfinance) (2.5)\nRequirement already satisfied: six>=1.9 in c:\\users\\public.laptop-7nbr16rs\\appdata\\roaming\\python\\python38\\site-packages (from html5lib>=1.1->yfinance) (1.16.0)\nRequirement already satisfied: webencodings in c:\\users\\public.laptop-7nbr16rs\\appdata\\roaming\\python\\python38\\site-packages (from html5lib>=1.1->yfinance) (0.5.1)\n",
                    "output_type": "stream"
                },
                {
                    "name": "stdout",
                    "text": "Requirement already satisfied: python-dateutil>=2.8.2 in c:\\users\\public.laptop-7nbr16rs\\appdata\\roaming\\python\\python38\\site-packages (from pandas>=1.3.0->yfinance) (2.8.2)\nRequirement already satisfied: tzdata>=2022.1 in c:\\users\\public.laptop-7nbr16rs\\azuredatastudio-python\\lib\\site-packages (from pandas>=1.3.0->yfinance) (2023.4)\nRequirement already satisfied: charset-normalizer<4,>=2 in c:\\users\\public.laptop-7nbr16rs\\azuredatastudio-python\\lib\\site-packages (from requests>=2.31->yfinance) (3.3.2)\nRequirement already satisfied: idna<4,>=2.5 in c:\\users\\public.laptop-7nbr16rs\\appdata\\roaming\\python\\python38\\site-packages (from requests>=2.31->yfinance) (3.6)\nRequirement already satisfied: urllib3<3,>=1.21.1 in c:\\users\\public.laptop-7nbr16rs\\azuredatastudio-python\\lib\\site-packages (from requests>=2.31->yfinance) (2.1.0)\nRequirement already satisfied: certifi>=2017.4.17 in c:\\users\\public.laptop-7nbr16rs\\azuredatastudio-python\\lib\\site-packages (from requests>=2.31->yfinance) (2023.11.17)\n",
                    "output_type": "stream"
                },
                {
                    "name": "stdout",
                    "text": "",
                    "output_type": "stream"
                }
            ],
            "execution_count": 2
        }
    ]
}