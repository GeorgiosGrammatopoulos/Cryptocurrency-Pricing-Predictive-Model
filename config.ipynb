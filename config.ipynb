{
    "metadata": {
        "kernelspec": {
            "name": "powershell",
            "display_name": "PowerShell",
            "language": "powershell"
        },
        "language_info": {
            "name": "powershell",
            "codemirror_mode": "shell",
            "mimetype": "text/x-sh",
            "file_extension": ".ps1"
        }
    },
    "nbformat_minor": 2,
    "nbformat": 4,
    "cells": [
        {
            "cell_type": "code",
            "source": [
                "###PowerShell - Create repository for dataset renewal (under progress)\r\n",
                "\r\n",
                "$crypto = \"OP\" \r\n",
                "#Read-Host -Prompt \"Insert your crypto of choice\"\r\n",
                "\r\n",
                "Write-Host \"Creating directory for: $crypto\"\r\n",
                "\r\n",
                "New-Item -Path \"C:\\Users\\georg\\Downloads\\$crypto\" -ItemType Directory\r\n",
                "\r\n",
                "Invoke-WebRequest -Uri \"https://query1.finance.yahoo.com/v7/finance/download/OP-USD?period1=1604448000&period2=1706486400&interval=1d&events=history&includeAdjustedClose=true\" -OutFile \"C:\\Users\\PUBLIC.LAPTOP-7NBR16RS\\Desktop\\finances\\$crypto\"\r\n",
                "\r\n",
                "\r\n",
                "#pending to create a download prompt of datasets for crypto. for the moment, just OP"
            ],
            "metadata": {
                "azdata_cell_guid": "def4e2f3-f9b0-4732-be6b-2963687078dd",
                "language": "powershell",
                "tags": []
            },
            "outputs": [],
            "execution_count": null
        },
        {
            "cell_type": "code",
            "source": [
                "###PowerShell - Python package installation\r\n",
                "\r\n",
                "cd C:\\Users\\georg\\Downloads -m \r\n",
                "pip install --upgrade pip\r\n",
                "pip install pyodbc\r\n",
                "pip install pandas\r\n",
                "pip install pandas pandas_ta\r\n",
                "pip install yfinance\r\n",
                "pip install scikit-learn\r\n",
                "pip install matplotlib"
            ],
            "metadata": {
                "azdata_cell_guid": "f37fe2cc-cee9-43d6-babd-5a0464b54e1d",
                "language": "powershell",
                "tags": [
                    "hide_input"
                ]
            },
            "outputs": [
                {
                    "output_type": "stream",
                    "name": "stdout",
                    "text": "Set-Location : A parameter cannot be found that matches parameter name 'm'.\nAt line:3 char:29\n+ cd C:\\Users\\georg\\Downloads -m\n+                             ~~\n    + CategoryInfo          : InvalidArgument: (:) [Set-Location], ParameterBindingException\n    + FullyQualifiedErrorId : NamedParameterNotFound,Microsoft.PowerShell.Commands.SetLocationCommand\n \n"
                },
                {
                    "output_type": "stream",
                    "name": "stdout",
                    "text": "Requirement already satisfied: pip in c:\\users\\georg\\azuredatastudio-python\\lib\\site-packages (24.0)\n"
                },
                {
                    "output_type": "stream",
                    "name": "stdout",
                    "text": "Requirement already satisfied: pyodbc in c:\\users\\georg\\azuredatastudio-python\\lib\\site-packages (5.1.0)\n"
                },
                {
                    "output_type": "stream",
                    "name": "stdout",
                    "text": "Requirement already satisfied: pandas in c:\\users\\georg\\azuredatastudio-python\\lib\\site-packages (2.0.3)\nRequirement already satisfied: python-dateutil>=2.8.2 in c:\\users\\georg\\appdata\\roaming\\python\\python38\\site-packages (from pandas) (2.9.0.post0)\nRequirement already satisfied: pytz>=2020.1 in c:\\users\\georg\\azuredatastudio-python\\lib\\site-packages (from pandas) (2024.1)\nRequirement already satisfied: tzdata>=2022.1 in c:\\users\\georg\\azuredatastudio-python\\lib\\site-packages (from pandas) (2024.1)\nRequirement already satisfied: numpy>=1.20.3 in c:\\users\\georg\\azuredatastudio-python\\lib\\site-packages (from pandas) (1.24.4)\nRequirement already satisfied: six>=1.5 in c:\\users\\georg\\appdata\\roaming\\python\\python38\\site-packages (from python-dateutil>=2.8.2->pandas) (1.16.0)\n"
                },
                {
                    "output_type": "stream",
                    "name": "stdout",
                    "text": "Requirement already satisfied: pandas in c:\\users\\georg\\azuredatastudio-python\\lib\\site-packages (2.0.3)\nRequirement already satisfied: pandas_ta in c:\\users\\georg\\azuredatastudio-python\\lib\\site-packages (0.3.14b0)\nRequirement already satisfied: python-dateutil>=2.8.2 in c:\\users\\georg\\appdata\\roaming\\python\\python38\\site-packages (from pandas) (2.9.0.post0)\nRequirement already satisfied: pytz>=2020.1 in c:\\users\\georg\\azuredatastudio-python\\lib\\site-packages (from pandas) (2024.1)\nRequirement already satisfied: tzdata>=2022.1 in c:\\users\\georg\\azuredatastudio-python\\lib\\site-packages (from pandas) (2024.1)\nRequirement already satisfied: numpy>=1.20.3 in c:\\users\\georg\\azuredatastudio-python\\lib\\site-packages (from pandas) (1.24.4)\nRequirement already satisfied: six>=1.5 in c:\\users\\georg\\appdata\\roaming\\python\\python38\\site-packages (from python-dateutil>=2.8.2->pandas) (1.16.0)\n"
                },
                {
                    "output_type": "stream",
                    "name": "stdout",
                    "text": "Requirement already satisfied: yfinance in c:\\users\\georg\\azuredatastudio-python\\lib\\site-packages (0.2.40)\nRequirement already satisfied: pandas>=1.3.0 in c:\\users\\georg\\azuredatastudio-python\\lib\\site-packages (from yfinance) (2.0.3)\nRequirement already satisfied: numpy>=1.16.5 in c:\\users\\georg\\azuredatastudio-python\\lib\\site-packages (from yfinance) (1.24.4)\nRequirement already satisfied: requests>=2.31 in c:\\users\\georg\\azuredatastudio-python\\lib\\site-packages (from yfinance) (2.32.2)\nRequirement already satisfied: multitasking>=0.0.7 in c:\\users\\georg\\azuredatastudio-python\\lib\\site-packages (from yfinance) (0.0.11)\nRequirement already satisfied: lxml>=4.9.1 in c:\\users\\georg\\azuredatastudio-python\\lib\\site-packages (from yfinance) (5.2.2)\nRequirement already satisfied: platformdirs>=2.0.0 in c:\\users\\georg\\appdata\\roaming\\python\\python38\\site-packages (from yfinance) (4.2.2)\nRequirement already satisfied: pytz>=2022.5 in c:\\users\\georg\\azuredatastudio-python\\lib\\site-packages (from yfinance) (2024.1)\nRequirement already satisfied: frozendict>=2.3.4 in c:\\users\\georg\\azuredatastudio-python\\lib\\site-packages (from yfinance) (2.4.4)\nRequirement already satisfied: peewee>=3.16.2 in c:\\users\\georg\\azuredatastudio-python\\lib\\site-packages (from yfinance) (3.17.5)\nRequirement already satisfied: beautifulsoup4>=4.11.1 in c:\\users\\georg\\appdata\\roaming\\python\\python38\\site-packages (from yfinance) (4.12.3)\nRequirement already satisfied: html5lib>=1.1 in c:\\users\\georg\\azuredatastudio-python\\lib\\site-packages (from yfinance) (1.1)\nRequirement already satisfied: soupsieve>1.2 in c:\\users\\georg\\appdata\\roaming\\python\\python38\\site-packages (from beautifulsoup4>=4.11.1->yfinance) (2.5)\nRequirement already satisfied: six>=1.9 in c:\\users\\georg\\appdata\\roaming\\python\\python38\\site-packages (from html5lib>=1.1->yfinance) (1.16.0)\nRequirement already satisfied: webencodings in c:\\users\\georg\\appdata\\roaming\\python\\python38\\site-packages (from html5lib>=1.1->yfinance) (0.5.1)\n"
                },
                {
                    "output_type": "stream",
                    "name": "stdout",
                    "text": "Requirement already satisfied: python-dateutil>=2.8.2 in c:\\users\\georg\\appdata\\roaming\\python\\python38\\site-packages (from pandas>=1.3.0->yfinance) (2.9.0.post0)\nRequirement already satisfied: tzdata>=2022.1 in c:\\users\\georg\\azuredatastudio-python\\lib\\site-packages (from pandas>=1.3.0->yfinance) (2024.1)\nRequirement already satisfied: charset-normalizer<4,>=2 in c:\\users\\georg\\azuredatastudio-python\\lib\\site-packages (from requests>=2.31->yfinance) (3.3.2)\nRequirement already satisfied: idna<4,>=2.5 in c:\\users\\georg\\appdata\\roaming\\python\\python38\\site-packages (from requests>=2.31->yfinance) (3.7)\nRequirement already satisfied: urllib3<3,>=1.21.1 in c:\\users\\georg\\azuredatastudio-python\\lib\\site-packages (from requests>=2.31->yfinance) (2.2.1)\nRequirement already satisfied: certifi>=2017.4.17 in c:\\users\\georg\\azuredatastudio-python\\lib\\site-packages (from requests>=2.31->yfinance) (2024.2.2)\n"
                },
                {
                    "output_type": "stream",
                    "name": "stdout",
                    "text": "Requirement already satisfied: scikit-learn in c:\\users\\georg\\azuredatastudio-python\\lib\\site-packages (1.3.2)\nRequirement already satisfied: numpy<2.0,>=1.17.3 in c:\\users\\georg\\azuredatastudio-python\\lib\\site-packages (from scikit-learn) (1.24.4)\nRequirement already satisfied: scipy>=1.5.0 in c:\\users\\georg\\azuredatastudio-python\\lib\\site-packages (from scikit-learn) (1.10.1)\nRequirement already satisfied: joblib>=1.1.1 in c:\\users\\georg\\azuredatastudio-python\\lib\\site-packages (from scikit-learn) (1.4.2)\nRequirement already satisfied: threadpoolctl>=2.0.0 in c:\\users\\georg\\azuredatastudio-python\\lib\\site-packages (from scikit-learn) (3.5.0)\n"
                },
                {
                    "output_type": "stream",
                    "name": "stdout",
                    "text": "Collecting matplotlib\n"
                },
                {
                    "output_type": "stream",
                    "name": "stdout",
                    "text": "  Downloading matplotlib-3.7.5-cp38-cp38-win_amd64.whl.metadata (5.8 kB)\n"
                },
                {
                    "output_type": "stream",
                    "name": "stdout",
                    "text": "Collecting contourpy>=1.0.1 (from matplotlib)\n  Downloading contourpy-1.1.1-cp38-cp38-win_amd64.whl.metadata (5.9 kB)\n"
                },
                {
                    "output_type": "stream",
                    "name": "stdout",
                    "text": "Collecting cycler>=0.10 (from matplotlib)\n  Downloading cycler-0.12.1-py3-none-any.whl.metadata (3.8 kB)\n"
                },
                {
                    "output_type": "stream",
                    "name": "stdout",
                    "text": "Collecting fonttools>=4.22.0 (from matplotlib)\n  Downloading fonttools-4.53.0-cp38-cp38-win_amd64.whl.metadata (165 kB)\n"
                },
                {
                    "output_type": "stream",
                    "name": "stdout",
                    "text": "     -------------------------------------- 165.5/165.5 kB 4.9 MB/s eta 0:00:00\nCollecting kiwisolver>=1.0.1 (from matplotlib)\n  Downloading kiwisolver-1.4.5-cp38-cp38-win_amd64.whl.metadata (6.5 kB)\nRequirement already satisfied: numpy<2,>=1.20 in c:\\users\\georg\\azuredatastudio-python\\lib\\site-packages (from matplotlib) (1.24.4)\nRequirement already satisfied: packaging>=20.0 in c:\\users\\georg\\appdata\\roaming\\python\\python38\\site-packages (from matplotlib) (24.0)\n"
                },
                {
                    "output_type": "stream",
                    "name": "stdout",
                    "text": "Collecting pillow>=6.2.0 (from matplotlib)\n  Downloading pillow-10.3.0-cp38-cp38-win_amd64.whl.metadata (9.4 kB)\n"
                },
                {
                    "output_type": "stream",
                    "name": "stdout",
                    "text": "Collecting pyparsing>=2.3.1 (from matplotlib)\n  Downloading pyparsing-3.1.2-py3-none-any.whl.metadata (5.1 kB)\nRequirement already satisfied: python-dateutil>=2.7 in c:\\users\\georg\\appdata\\roaming\\python\\python38\\site-packages (from matplotlib) (2.9.0.post0)\nRequirement already satisfied: importlib-resources>=3.2.0 in c:\\users\\georg\\appdata\\roaming\\python\\python38\\site-packages (from matplotlib) (6.4.0)\n"
                },
                {
                    "output_type": "stream",
                    "name": "stdout",
                    "text": "Requirement already satisfied: zipp>=3.1.0 in c:\\users\\georg\\appdata\\roaming\\python\\python38\\site-packages (from importlib-resources>=3.2.0->matplotlib) (3.18.2)\nRequirement already satisfied: six>=1.5 in c:\\users\\georg\\appdata\\roaming\\python\\python38\\site-packages (from python-dateutil>=2.7->matplotlib) (1.16.0)\nDownloading matplotlib-3.7.5-cp38-cp38-win_amd64.whl (7.5 MB)\n"
                },
                {
                    "output_type": "stream",
                    "name": "stdout",
                    "text": "   ---------------------------------------- 7.5/7.5 MB 4.9 MB/s eta 0:00:00\nDownloading contourpy-1.1.1-cp38-cp38-win_amd64.whl (477 kB)\n"
                },
                {
                    "output_type": "stream",
                    "name": "stdout",
                    "text": "   ---------------------------------------- 477.9/477.9 kB 5.0 MB/s eta 0:00:00\nDownloading cycler-0.12.1-py3-none-any.whl (8.3 kB)\n"
                },
                {
                    "output_type": "stream",
                    "name": "stdout",
                    "text": "Downloading fonttools-4.53.0-cp38-cp38-win_amd64.whl (1.5 MB)\n"
                },
                {
                    "output_type": "stream",
                    "name": "stdout",
                    "text": "   ---------------------------------------- 1.5/1.5 MB 4.9 MB/s eta 0:00:00\nDownloading kiwisolver-1.4.5-cp38-cp38-win_amd64.whl (56 kB)\n   ---------------------------------------- 56.2/56.2 kB 3.1 MB/s eta 0:00:00\nDownloading pillow-10.3.0-cp38-cp38-win_amd64.whl (2.5 MB)\n"
                },
                {
                    "output_type": "stream",
                    "name": "stdout",
                    "text": "   ---------------------------------------- 2.5/2.5 MB 4.7 MB/s eta 0:00:00\nDownloading pyparsing-3.1.2-py3-none-any.whl (103 kB)\n"
                },
                {
                    "output_type": "stream",
                    "name": "stdout",
                    "text": "   ---------------------------------------- 103.2/103.2 kB 2.0 MB/s eta 0:00:00\n"
                },
                {
                    "output_type": "stream",
                    "name": "stdout",
                    "text": "Installing collected packages: pyparsing, pillow, kiwisolver, fonttools, cycler, contourpy, matplotlib\n"
                },
                {
                    "output_type": "stream",
                    "name": "stdout",
                    "text": "Successfully installed contourpy-1.1.1 cycler-0.12.1 fonttools-4.53.0 kiwisolver-1.4.5 matplotlib-3.7.5 pillow-10.3.0 pyparsing-3.1.2\n"
                },
                {
                    "output_type": "stream",
                    "name": "stdout",
                    "text": ""
                }
            ],
            "execution_count": 1
        }
    ]
}